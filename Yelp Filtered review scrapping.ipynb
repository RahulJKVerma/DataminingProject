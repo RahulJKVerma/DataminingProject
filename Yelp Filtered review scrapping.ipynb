{
 "metadata": {
  "name": ""
 },
 "nbformat": 3,
 "nbformat_minor": 0,
 "worksheets": [
  {
   "cells": [
    {
     "cell_type": "code",
     "collapsed": false,
     "input": [
      "from selenium import webdriver\n",
      "from selenium.webdriver.support.ui import Select\n",
      "import os\n",
      "import re\n",
      "import random\n",
      "import time\n",
      "import pandas as pd\n",
      "import numpy as np\n",
      "\n",
      "string = '3/10/2014\\nUpdated review'#'11/26/2013 Previous review'\n",
      "pattern = re.compile(r'^(?!.*Previous review)(.+?)(.Updated review)?$',re.DOTALL)"
     ],
     "language": "python",
     "metadata": {},
     "outputs": [],
     "prompt_number": 62
    },
    {
     "cell_type": "code",
     "collapsed": false,
     "input": [
      "#biz_urls = []\n",
      "#rating = 0\n",
      "#name = 0\n",
      "#average_ratings = ''\n",
      "#text = []\n",
      "#date_entered = ''\n",
      "#user_text_dict = {}\n",
      "#reviews = ''\n",
      "#user_url = ''\n",
      "#UserTupleList = []\n",
      "#ReviewTupList = []\n",
      "#BusinessList = []\n",
      "#MainSearchPage = 'http://www.yelp.com/search?find_desc=&find_loc=Phoenix%2C+AZ&ns=1'"
     ],
     "language": "python",
     "metadata": {},
     "outputs": [],
     "prompt_number": 18
    },
    {
     "cell_type": "code",
     "collapsed": false,
     "input": [
      "#path_to_chromedriver = \"C:\\\\Users\\\\Admin\\\\Supplemental_data\\\\yelp_phoenix_academic_dataset\\\\chromedriver_win32\\\\chromedriver.exe\" # change path as needed\n",
      "#os.environ[\"webdriver.chrome.driver\"] = path_to_chromedriver\n",
      "#browser = webdriver.Chrome(path_to_chromedriver)\n",
      "#browser.get(\"http://www.yelp.com/search?find_desc=&find_loc=Phoenix%2C+AZ&ns=1\")\n",
      "#browser.find_element_by_class_name(\"log-in\").click()\n",
      "#LoginEmail = browser.find_element_by_xpath(\"//*[@id='login-form']/p[2]/input[2]\")\n",
      "#LoginPwd = browser.find_element_by_xpath(\"//*[@id='login-form']/p[3]/input\")\n",
      "#SubmitButton = browser.find_element_by_xpath(\"//*[@id='login-form']/p[5]/button\")\n",
      "#LoginEmail.send_keys(\"rahuljskajy@gmail.com\")\n",
      "#LoginPwd.send_keys(\"pojseianndijaksqucn\")\n",
      "#SubmitButton.submit()\n"
     ],
     "language": "python",
     "metadata": {},
     "outputs": [],
     "prompt_number": 19
    },
    {
     "cell_type": "code",
     "collapsed": false,
     "input": [
      "#url=\"http://www.yelp.com/search?find_desc=&find_loc=Phoenix%2C+AZ&ns=1&ls=183995831c4f3588\"\n",
      "#url = 'http://www.yelp.com/biz/a-1-minute-key-service-phoenix-2'\n",
      "#browser.get(url)"
     ],
     "language": "python",
     "metadata": {},
     "outputs": [],
     "prompt_number": 20
    },
    {
     "cell_type": "code",
     "collapsed": false,
     "input": [
      "\n",
      "\n",
      "#x = browser.find_elements_by_class_name(\"biz-name\")\n",
      "\n",
      "\n",
      "#for biz_name in x:\n",
      "#    biz_urls.append(biz_name.get_attribute(\"href\"))\n"
     ],
     "language": "python",
     "metadata": {},
     "outputs": [],
     "prompt_number": 21
    },
    {
     "cell_type": "code",
     "collapsed": false,
     "input": [
      "#biz_urls = [u'http://www.yelp.com/not_recommended_reviews/po-05-AGCVxEme-SbNUIKw']\n",
      "#biz_urls = ['http://www.yelp.com/biz/a-1-minute-key-service-phoenix-2']\n",
      "#browser.get(biz_urls[0])\n",
      "#ReviewTupList = []\n"
     ],
     "language": "python",
     "metadata": {},
     "outputs": [],
     "prompt_number": 22
    },
    {
     "cell_type": "code",
     "collapsed": false,
     "input": [
      "def GetAllNRReviews(biz_url):   \n",
      "    \"\"\"This function gets finds the Not Recommended section, clicks on it, gets the link for all NR pages\n",
      "    then call function GetTupPageNRReviews to get review details from individual pages\"\"\"\n",
      "    browser.find_element_by_css_selector(\".subtle-text\").click()\n",
      "    NRPageList = [item.get_attribute(\"href\") for item in browser.find_elements_by_css_selector(\".pagination-links .page-option\")][1:-1]\n",
      "    ReviewTupList.extend(GetTupPageNRReviews(biz_url))\n",
      "    for nrpage in NRPageList:\n",
      "        browser.get(nrpage)\n",
      "        ReviewTupList.extend(GetTupPageNRReviews(biz_url))\n",
      "    "
     ],
     "language": "python",
     "metadata": {},
     "outputs": [],
     "prompt_number": 23
    },
    {
     "cell_type": "code",
     "collapsed": false,
     "input": [
      "#len(ReviewTupList)"
     ],
     "language": "python",
     "metadata": {},
     "outputs": [],
     "prompt_number": 24
    },
    {
     "cell_type": "code",
     "collapsed": false,
     "input": [
      "def GetTupPageNRReviews(biz_url):\n",
      "    \"\"\" Getting a nice tuple list of all the information from the not recommended list. This function\n",
      "    will grab all the details from current page, then move to the next page till the last page and form\n",
      "    a list of tuples that will be fed into the function for finding individual user pages and data extraction\n",
      "    Return value should be a tuple list of user data from all pages. Input would be the current page/browser\"\"\"\n",
      "    x=browser.find_elements_by_xpath(\"//*[@id='super-container']/div[2]/div/div/div[3]/div/div[1]/ul\")\n",
      "    UserNameNR = map( lambda x: x.text, x[0].find_elements_by_css_selector(\".ypassport .user-display-name\"))\n",
      "    UserLocationNR = [item.text for item in x[0].find_elements_by_xpath(\"//li/b\")]\n",
      "    DateReviewedNR = map(lambda d: d.find_element_by_class_name(\"rating-qualifier\").text, x[0].find_elements_by_css_selector(\".biz-rating-very-large\"))#Need to remove the older reviewed date\n",
      "    UserRatingsNR = map( lambda x: x.find_element_by_tag_name(\"i\").get_attribute(\"title\"), x[0].find_elements_by_css_selector(\".biz-rating-very-large\"))\n",
      "    ReviewsNR = [item.text for item in x[0].find_elements_by_css_selector(\".filtered-reviews-content .review p\")]\n",
      "    FriendsNR = [item.text for item in x[0].find_elements_by_css_selector(\".ypassport .friend-count\")]\n",
      "    ReviewCountNR = [item.text for item in x[0].find_elements_by_css_selector(\".ypassport .review-count\")]\n",
      "    Flag = ['NR']*len(UserNameNR)\n",
      "    bus_url = [biz_url]*len(UserNameNR)\n",
      "    user_url = ['']*len(UserNameNR)\n",
      "    ReviewNR = zip(UserNameNR , user_url, UserLocationNR, DateReviewedNR, UserRatingsNR, ReviewsNR, FriendsNR, ReviewCountNR, bus_url, Flag)\n",
      "    return ReviewNR"
     ],
     "language": "python",
     "metadata": {},
     "outputs": [],
     "prompt_number": 25
    },
    {
     "cell_type": "code",
     "collapsed": false,
     "input": [
      "#ReviewNR"
     ],
     "language": "python",
     "metadata": {},
     "outputs": [],
     "prompt_number": 26
    },
    {
     "cell_type": "markdown",
     "metadata": {},
     "source": [
      "ReviewNR[2]\n",
      "\n",
      "(u'Nick C.',</br>\n",
      " u'Scottsdale, AZ',</br>\n",
      " u'4/16/2014',</br>\n",
      " u'5.0 star rating',</br>\n",
      " u\"We used A1 a few weeks ago on the recommendation of our realtor after we purchased a new home.  We called the morning we closed and didn't expect to get an appt for a few days but they were able to get to us that same day.  Craig arrived and was very helpful in re-keying our door locks and getting us down to just 2 keys.  He also made extra keys for us on the spot.  Very reasonably priced and convenient.  Would definitely recommend A1 Minute Key Service to our friends and family.\",</br>\n",
      " u'0 friends',</br>\n",
      " u'3 reviews')"
     ]
    },
    {
     "cell_type": "code",
     "collapsed": false,
     "input": [
      "def YelpLogin():\n",
      "    browser.find_element_by_class_name(\"log-in\").click()\n",
      "    LoginEmail = browser.find_element_by_xpath(\"//*[@id='login-form']/p[2]/input[2]\")\n",
      "    LoginPwd = browser.find_element_by_xpath(\"//*[@id='login-form']/p[3]/input\")\n",
      "    SubmitButton = browser.find_element_by_xpath(\"//*[@id='login-form']/p[5]/button\")\n",
      "    LoginEmail.send_keys(\"rahuljskajy@gmail.com\")\n",
      "    LoginPwd.send_keys(\"pojseianndijaksqucn\")\n",
      "    SubmitButton.submit()\n",
      "    return"
     ],
     "language": "python",
     "metadata": {},
     "outputs": [],
     "prompt_number": 27
    },
    {
     "cell_type": "code",
     "collapsed": false,
     "input": [
      "#seconds = 5 + (random.random() * 5)\n",
      "#seconds"
     ],
     "language": "python",
     "metadata": {},
     "outputs": [],
     "prompt_number": 28
    },
    {
     "cell_type": "code",
     "collapsed": false,
     "input": [
      "def PassScrubbedRevRecords(ScrubbedRevTups):\n",
      "    for record in ScrubbedRevTups:\n",
      "        UserRecord = LoopUserNames(record)\n",
      "        seconds = 6 + (random.random() * 5)\n",
      "        time.sleep(seconds)\n",
      "        if UserRecord is not None:\n",
      "            UserTupleList.extend(UserRecord)"
     ],
     "language": "python",
     "metadata": {},
     "outputs": [],
     "prompt_number": 55
    },
    {
     "cell_type": "code",
     "collapsed": false,
     "input": [
      "def LoopUserNames(current_query):\n",
      "    \"\"\" This function searches for a name, which is the first element of \"current query\"\n",
      "    The function goes to the search page, identifies the location of the user, clicks on the location link from dropdown\n",
      "    and then calls function SelectUsername match the username from search results. Return value is a tuple of the form\n",
      "    username, user_url, reviewer_date, reviewer_ratings, review_text, business_reviewed, friend_count, review_count\n",
      "    and location\"\"\"\n",
      "    usertuplist = []\n",
      "    browser.find_element_by_id(\"find-friends\").click()\n",
      "    SearchBox = browser.find_element_by_xpath(\"//*[@id='query']\")\n",
      "    SearchSubmit = browser.find_element_by_xpath(\"//*[@id='member-search-form']/p/button\")\n",
      "    SearchBox.send_keys(current_query[0])\n",
      "    SearchSubmit.submit()\n",
      "    dropdown = browser.find_element_by_css_selector(\".member-search-container .location-filter\")#.find_element_by_partial_link_text(\"San Jose, CA\").click()\n",
      "    dropdown.click()\n",
      "    value = dropdown.find_elements_by_partial_link_text(current_query[2])\n",
      "    max_turns = 0\n",
      "    while (len(value) == 0) & (max_turns < 15):\n",
      "        dropdown.find_element_by_class_name(\"next\").click()\n",
      "        value = dropdown.find_elements_by_partial_link_text(current_query[2])\n",
      "        max_turns+=1\n",
      "    if len(value) != 0:\n",
      "        value[0].click()\n",
      "        #ReviewerList = browser.find_elements_by_xpath(\"//*[@id='super-container']/div[2]/div[2]/div[1]/div[2]/ol/li\")#Search page results in one place\n",
      "        search_results_pages = [results_page.get_attribute(\"href\") for results_page in browser.find_elements_by_class_name(\"pager-page\")][:-1]\n",
      "        search_results_pages.insert(0,None)\n",
      "        usertuplist = SelectUsername(search_results_pages, current_query[0], current_query[1] , current_query[6], current_query[7], current_query[2], current_query[9])\n",
      "        return usertuplist\n",
      "    else:\n",
      "        search_results_pages = [None]\n",
      "        usertuplist = SelectUsername(search_results_pages, current_query[0], current_query[1] , current_query[6], current_query[7], current_query[2], current_query[9])\n",
      "        return usertuplist\n"
     ],
     "language": "python",
     "metadata": {},
     "outputs": [],
     "prompt_number": 30
    },
    {
     "cell_type": "code",
     "collapsed": false,
     "input": [
      "def SelectUsername(page_list, usrname, url_user, frnd_count, revw_count, loc, flag):\n",
      "    \"\"\"This function matches the friend, location, name and review counts for a user to determine which userpage to \n",
      "    click. Once clicked, it calls function ScrapeUserPage which is a generic function to grab data from a user page\"\"\"\n",
      "    user_url = None\n",
      "    for page in page_list:\n",
      "        if page is not None:\n",
      "            browser.get(page)\n",
      "        reviewerlist = browser.find_elements_by_xpath(\"//*[@id='super-container']/div[2]/div[2]/div[1]/div[2]/ol/li\")\n",
      "        for reviewer in reviewerlist:\n",
      "            string = reviewer.find_element_by_class_name(\"user-stats\").text #string = \"0\\nfriends\\n2\\nreviews\"\n",
      "            url = reviewer.find_element_by_class_name(\"result-text\").find_element_by_tag_name(\"a\").get_attribute(\"href\")\n",
      "            user_name = reviewer.find_element_by_class_name(\"result-text\").find_element_by_tag_name(\"a\").text\n",
      "            condition1 = string.replace(\"\\n\", ' ')[:-1] in str(frnd_count + \" \" + revw_count)\n",
      "            condition2 = url[5:]==url_user[4:]\n",
      "            condition3 = user_name == usrname\n",
      "            if url_user != '':\n",
      "                condition = condition2\n",
      "            else:\n",
      "                condition = (condition1 and condition3)\n",
      "            if condition:\n",
      "                user_url = reviewer.find_element_by_class_name(\"result-text\").find_element_by_tag_name(\"a\").get_attribute(\"href\")\n",
      "                reviewer.find_element_by_class_name(\"result-text\").find_element_by_tag_name(\"a\").click()\n",
      "                break\n",
      "        if user_url != None:\n",
      "            break\n",
      "    if user_url is not None:\n",
      "        tuplist = ScrapeUserPage(usrname, frnd_count, revw_count, loc, user_url, flag)\n",
      "        return tuplist\n",
      "    return\n",
      "    \n",
      "def ScrapeUserPage(username, friend_count, review_count, location, usr_url, flag):\n",
      "    \"\"\"This function is a generic function used to grab data from a user page currently displayed in the browser\"\"\"\n",
      "    #Call function for getting the user average ratings and reviews, pass user_url as input to function\n",
      "    reviewer_ratings = map( lambda x: x.find_element_by_tag_name(\"i\").get_attribute(\"title\"), browser.find_elements_by_css_selector(\".review .rating\"))\n",
      "    reviewer_date = [item.text for item in browser.find_elements_by_css_selector(\".review-meta .date\")]\n",
      "    reviewer_text = [item.text for item in browser.find_elements_by_css_selector(\".review .review_comment\")]\n",
      "    zipdateAndratings = [(re.search(pattern, item[0]).group(1),item[1]) for item in zip(reviewer_date,reviewer_ratings) if re.search(pattern, item[0]) is not None]\n",
      "    reviewer_date, reviewer_ratings  = zip(*zipdateAndratings)\n",
      "    biz_url = [item.find_element_by_tag_name(\"a\").get_attribute(\"href\") for item in browser.find_elements_by_css_selector(\".review .biz_info\")]\n",
      "    flag = [flag]*len(reviewer_text)\n",
      "    user_zip = zip([username]*len(reviewer_text), [usr_url]*len(reviewer_text), reviewer_date, reviewer_ratings, reviewer_text, biz_url, [friend_count]*len(reviewer_text), [review_count]*len(reviewer_text), [location]*len(reviewer_text), flag)\n",
      "    return user_zip"
     ],
     "language": "python",
     "metadata": {},
     "outputs": [],
     "prompt_number": 31
    },
    {
     "cell_type": "code",
     "collapsed": false,
     "input": [
      "#browser.get('https://www.yelp.com/member_search?find_loc=AZ%3APhoenix%3A%3A&query=Laura+B')\n"
     ],
     "language": "python",
     "metadata": {},
     "outputs": [],
     "prompt_number": 32
    },
    {
     "cell_type": "code",
     "collapsed": false,
     "input": [
      "#search_results_pages = [results_page.get_attribute(\"href\") for results_page in browser.find_elements_by_class_name(\"pager-page\")][:-1]"
     ],
     "language": "python",
     "metadata": {},
     "outputs": [],
     "prompt_number": 33
    },
    {
     "cell_type": "code",
     "collapsed": false,
     "input": [
      "#for page in search_results_pages:\n",
      "#    browser.get"
     ],
     "language": "python",
     "metadata": {},
     "outputs": [],
     "prompt_number": 34
    },
    {
     "cell_type": "code",
     "collapsed": false,
     "input": [
      "#UserTupleList[0]"
     ],
     "language": "python",
     "metadata": {},
     "outputs": [],
     "prompt_number": 35
    },
    {
     "cell_type": "code",
     "collapsed": false,
     "input": [
      "#UserTupleList"
     ],
     "language": "python",
     "metadata": {},
     "outputs": [],
     "prompt_number": 36
    },
    {
     "cell_type": "code",
     "collapsed": false,
     "input": [
      "#browser.quit()\n",
      "#for item in biz_urls:\n",
      "#    browser.get(item)\n",
      "#    FnPageScrapping(browser)\n",
      "#    browser.back()"
     ],
     "language": "python",
     "metadata": {},
     "outputs": [],
     "prompt_number": 37
    },
    {
     "cell_type": "code",
     "collapsed": false,
     "input": [
      "#def FnPageScrapping(chrome):\n",
      "#    y = chrome.find_elements_by_class_name(\"review-list\")\n",
      "#    for reviews in y:\n",
      "#        FnRecoReviewScrp(reviews)\n",
      "#    return\n",
      "    "
     ],
     "language": "python",
     "metadata": {},
     "outputs": [],
     "prompt_number": 38
    },
    {
     "cell_type": "code",
     "collapsed": false,
     "input": [
      "#def FnRecoReviewScrp(y):\n",
      "#    y_list = y.find_elements_by_tag_name(\"ul\")\n",
      "#    for distinct_reviews in y_list:\n",
      "#        reviews = distinct_reviews.find_elements_by_tag_name(\"li\")\n",
      "#        #Call basic extraction code for a review in reviews\n",
      "#        for index, individual_review in enumerate(reviews):\n",
      "#            print str(index) + \"-----\" + individual_review.text #Remove later\n",
      "#            usr_url, txt = ExtractDetails(individual_review)\n",
      "#            user_text_dict[usr_url] = txt\n",
      "#    return"
     ],
     "language": "python",
     "metadata": {},
     "outputs": [],
     "prompt_number": 39
    },
    {
     "cell_type": "code",
     "collapsed": false,
     "input": [
      "#def ExtractDetails(review):\n",
      "#    text = review.text\n",
      "#    username_container1 = review.find_elements_by_class_name(\"user-name\")\n",
      "#    #print \"username_container1: \" + str(username_container1)\n",
      "#    username_container2 = username_container1[0].find_elements_by_class_name(\"user-display-name\")\n",
      "#    user_url = username_container2[0].get_attribute(\"href\")\n",
      "#    return user_url, text\n",
      "#    text = text.append(item.text)"
     ],
     "language": "python",
     "metadata": {},
     "outputs": [],
     "prompt_number": 40
    },
    {
     "cell_type": "code",
     "collapsed": false,
     "input": [
      "#-Create a list of all the search results page links (can limit list length to 50)\n",
      "#--first get a list of links of all the businesses in a page\n",
      "#----first we get a list of urls of all the pages for a business\n",
      "#---------for every page we call the function to scrape the legitimate reviews\n",
      "#----we click on the filtered reviews link\n",
      "#----First we get a list of all the pages for the filtered reviews\n",
      "#---------for every page we call the function to get the fake reviews details\n",
      "#--go to the next business page\n",
      "#-Go to the next page"
     ],
     "language": "python",
     "metadata": {},
     "outputs": [],
     "prompt_number": 41
    },
    {
     "cell_type": "code",
     "collapsed": false,
     "input": [
      "#biz_urls = ['http://www.yelp.com/biz/a-1-minute-key-service-phoenix-2']\n"
     ],
     "language": "python",
     "metadata": {},
     "outputs": [],
     "prompt_number": 42
    },
    {
     "cell_type": "code",
     "collapsed": false,
     "input": [
      "def GetAllPagesRReviews(biz_url):\n",
      "    \"\"\"Pass the business URL and get all the Recommended reviews in a tuple form appended to\n",
      "    ReviewTupList\"\"\"\n",
      "    browser.get(biz_url)\n",
      "    RecoReviewsPages = [item.get_attribute(\"href\") for item in browser.find_element_by_css_selector(\".pagination-links\").find_elements_by_tag_name(\"a\")]  \n",
      "    ReviewTupList.extend(GetTupPageRReviews(biz_url))\n",
      "    for url in RecoReviewsPages[0:-1]:\n",
      "        browser.get(url)\n",
      "        ReviewTupList.extend(GetTupPageRReviews(biz_url))"
     ],
     "language": "python",
     "metadata": {},
     "outputs": [],
     "prompt_number": 43
    },
    {
     "cell_type": "code",
     "collapsed": false,
     "input": [
      "def GetTupPageRReviews(business_url):\n",
      "    \"\"\" This function grabs all the recommended review details from a business page.\n",
      "    Inout is the current page, Output is the list of tuples of reviews. Called per page\"\"\"\n",
      "    y=browser.find_elements_by_xpath(\"//*[@id='super-container']/div/div[1]/div[1]/div[2]/div[1]/div[2]/ul\")\n",
      "    UserNameR = map( lambda x: x.text, y[0].find_elements_by_css_selector(\".ypassport .user-display-name\"))\n",
      "    UserLocationR = [item.text for item in y[0].find_elements_by_xpath(\"//li/b\")]\n",
      "    dateReviewedR = map(lambda d: d.find_element_by_class_name(\"rating-qualifier\").text, y[0].find_elements_by_css_selector(\".biz-rating-very-large\"))#Need to remove the older reviewed date\n",
      "    userRatingsR = map( lambda x: x.find_element_by_tag_name(\"i\").get_attribute(\"title\"), y[0].find_elements_by_css_selector(\".biz-rating-very-large\"))\n",
      "    zipdateandratings = [(re.search(pattern, item[0]).group(1),item[1]) for item in zip(dateReviewedR,userRatingsR) if re.search(pattern, item[0]) is not None]\n",
      "    DateReviewedR, UserRatingsR  = zip(*zipdateandratings)\n",
      "    ReviewsR = [item.text for item in y[0].find_elements_by_css_selector(\".review .review_comment\")]\n",
      "    FriendsR = [item.text for item in y[0].find_elements_by_css_selector(\".ypassport .friend-count\")]\n",
      "    ReviewCountR = [item.text for item in y[0].find_elements_by_css_selector(\".ypassport .review-count\")]\n",
      "    user_url = [item.get_attribute(\"href\") for item in y[0].find_elements_by_css_selector(\".ypassport .user-display-name\")]\n",
      "    Flag = ['R']*len(UserNameR)\n",
      "    bus_url = [business_url]*len(UserNameR)\n",
      "    ZipReviewsR = zip(UserNameR , user_url, UserLocationR, DateReviewedR, UserRatingsR, ReviewsR, FriendsR, ReviewCountR, bus_url, Flag )\n",
      "    return ZipReviewsR"
     ],
     "language": "python",
     "metadata": {},
     "outputs": [],
     "prompt_number": 44
    },
    {
     "cell_type": "code",
     "collapsed": false,
     "input": [
      "#browser.get('http://www.yelp.com/search?find_desc=&find_loc=Phoenix%2C+AZ&ns=1')\n"
     ],
     "language": "python",
     "metadata": {},
     "outputs": [],
     "prompt_number": 45
    },
    {
     "cell_type": "code",
     "collapsed": false,
     "input": [
      "#Test code\n",
      "#MainPaginationLinks = [item.get_attribute(\"href\") for item in browser.find_elements_by_css_selector(\".pagination-links .page-option\")][0:-1]\n",
      "#MainPaginationLinks[0:-1]"
     ],
     "language": "python",
     "metadata": {},
     "outputs": [],
     "prompt_number": 46
    },
    {
     "cell_type": "code",
     "collapsed": false,
     "input": [
      "def GetPageBusinessLinks():\n",
      "    \"\"\" Gets the business names(urls) in the current page\"\"\"\n",
      "    BusinessList = [item.get_attribute(\"href\") for item in browser.find_elements_by_css_selector(\".search-result .search-result-title a\")]\n",
      "    return BusinessList"
     ],
     "language": "python",
     "metadata": {},
     "outputs": [],
     "prompt_number": 47
    },
    {
     "cell_type": "code",
     "collapsed": false,
     "input": [
      "if __name__ == \"__main__\":\n",
      "    \n",
      "    #Environment variables\n",
      "    UserTupleList = []\n",
      "    ReviewTupList = []\n",
      "    BusinessList = []\n",
      "    MainSearchPage = 'http://www.yelp.com/search?find_desc=&find_loc=Phoenix%2C+AZ&ns=1'\n",
      "    path_to_chromedriver = \"C:\\\\Users\\\\Admin\\\\Supplemental_data\\\\yelp_phoenix_academic_dataset\\\\chromedriver_win32\\\\chromedriver.exe\" # change path as needed\n",
      "    if 'browser' in globals():\n",
      "        browser.quit()\n",
      "    os.environ[\"webdriver.chrome.driver\"] = path_to_chromedriver\n",
      "    browser = webdriver.Chrome(path_to_chromedriver)    \n",
      "    browser.get(MainSearchPage)\n",
      "    \n",
      "    #Main portion of code\n",
      "    MainPaginationLinks = [item.get_attribute(\"href\") for item in browser.find_elements_by_css_selector(\".pagination-links .page-option\")][0:-1]\n",
      "    for page_link in MainPaginationLinks[0:1]: #testing, have put Pagination link to first one\n",
      "        if page_link is not None:\n",
      "            browser.get(page_link)\n",
      "        BusinessList = GetPageBusinessLinks()\n",
      "        for business in BusinessList[0:1]:  #testing, have put business to first two\n",
      "            GetAllPagesRReviews(business)\n",
      "            GetAllNRReviews(business)\n",
      "    \n",
      "    #Loggin into yelp for searching users\n",
      "    YelpLogin()\n",
      "    PassScrubbedRevRecords(ReviewTupList[0:100])\n",
      "        \n",
      "            \n",
      "    "
     ],
     "language": "python",
     "metadata": {},
     "outputs": [],
     "prompt_number": 56
    },
    {
     "cell_type": "code",
     "collapsed": false,
     "input": [
      "test = ReviewTupList[:5]\n",
      "random.shuffle(test)"
     ],
     "language": "python",
     "metadata": {},
     "outputs": [],
     "prompt_number": 58
    },
    {
     "cell_type": "code",
     "collapsed": false,
     "input": [
      "ReviewTupList[0:100][-1:]"
     ],
     "language": "python",
     "metadata": {},
     "outputs": [
      {
       "metadata": {},
       "output_type": "pyout",
       "prompt_number": 60,
       "text": [
        "[(u'J C.',\n",
        "  u'http://www.yelp.com/user_details?userid=Xo7tFQXQqYyJ365PC31r1A',\n",
        "  u'Gilbert, AZ',\n",
        "  u'7/10/2012',\n",
        "  u'5.0 star rating',\n",
        "  u\"I  recently received a Yakima bike carrier but the keys were missing so I couldn't use it. I stopped by to see what Jeff could do. 25 minutes later I was out of there with a set of keys and a working bike rack. Total cost under 25 bucks. Jeff was awesome and is extremely professional. Thanks Jeff!\",\n",
        "  u'0 friends',\n",
        "  u'3 reviews',\n",
        "  u'http://www.yelp.com/biz/a-1-minute-key-service-phoenix-2',\n",
        "  'R')]"
       ]
      }
     ],
     "prompt_number": 60
    },
    {
     "cell_type": "code",
     "collapsed": false,
     "input": [
      "UserTupleList[-1:]"
     ],
     "language": "python",
     "metadata": {},
     "outputs": [
      {
       "metadata": {},
       "output_type": "pyout",
       "prompt_number": 59,
       "text": [
        "[(u'Brian G.',\n",
        "  u'https://www.yelp.com/user_details?userid=uqu4gmiksw_rXU8UcRg__A',\n",
        "  u'3/23/2013',\n",
        "  u'5.0 star rating',\n",
        "  u'Great service. He called me to let me know he was 10 minutes away. Quick and inexpensive. And no extra fee for the weekend.  Thanks!!!',\n",
        "  u'http://www.yelp.com/biz/a-1-minute-key-service-phoenix-2?hrid=W5gyaVU588mz3WgSM0fMMA',\n",
        "  u'0 friends',\n",
        "  u'2 reviews',\n",
        "  u'Phoenix, AZ',\n",
        "  'R')]"
       ]
      }
     ],
     "prompt_number": 59
    },
    {
     "cell_type": "code",
     "collapsed": false,
     "input": [
      "browser.quit()"
     ],
     "language": "python",
     "metadata": {},
     "outputs": [],
     "prompt_number": 61
    },
    {
     "cell_type": "code",
     "collapsed": false,
     "input": [
      "dfYelpReviews = pd.DataFrame(ReviewTupList)\n",
      "dfYelpReviews.columns = np.array(['name','userurl','userlocation','reviewdate','reviewrating','reviewtext','friendcount','reviewcount','businessurl','flag'])\n",
      "dfYelpReviewsJSON = dfYelpReviews.to_json(orient=\"records\")\n",
      "f = open(\"C:\\\\Users\\\\Admin\\\\Supplemental_data\\\\dfYelpReviewsJSON.json\",'w')\n",
      "print >> f, dfYelpReviewsJSON\n",
      "f.close()"
     ],
     "language": "python",
     "metadata": {},
     "outputs": [],
     "prompt_number": 63
    },
    {
     "cell_type": "code",
     "collapsed": false,
     "input": [
      "dfYelpUsers = pd.DataFrame(UserTupleList)\n",
      "dfYelpReviews.columns = np.array(['name','userurl','reviewdate','reviewrating','reviewtext','businessurl','friendcount','reviewcount','userlocation','flag'])\n",
      "dfYelpUsersJSON = dfYelpUsers.to_json(orient=\"records\")\n",
      "f = open(\"C:\\\\Users\\\\Admin\\\\Supplemental_data\\\\dfYelpUsersJSON.json\",'w')\n",
      "print >> f, dfYelpUsersJSON\n",
      "f.close()"
     ],
     "language": "python",
     "metadata": {},
     "outputs": [],
     "prompt_number": 71
    },
    {
     "cell_type": "code",
     "collapsed": false,
     "input": [],
     "language": "python",
     "metadata": {},
     "outputs": [],
     "prompt_number": 90
    },
    {
     "cell_type": "code",
     "collapsed": false,
     "input": [],
     "language": "python",
     "metadata": {},
     "outputs": [],
     "prompt_number": 91
    },
    {
     "cell_type": "code",
     "collapsed": false,
     "input": [],
     "language": "python",
     "metadata": {},
     "outputs": [],
     "prompt_number": 92
    },
    {
     "cell_type": "code",
     "collapsed": false,
     "input": [],
     "language": "python",
     "metadata": {},
     "outputs": [],
     "prompt_number": 82
    },
    {
     "cell_type": "markdown",
     "metadata": {},
     "source": [
      "y=browser.find_elements_by_xpath(\"//*[@id='super-container']/div[2]/div[2]/div[1]/div[2]/ol/li\")"
     ]
    },
    {
     "cell_type": "markdown",
     "metadata": {},
     "source": [
      "y[0].find_element_by_class_name(\"result-text\").find_element_by_tag_name(\"a\").text"
     ]
    },
    {
     "cell_type": "markdown",
     "metadata": {},
     "source": [
      "user_url = [item.get_attribute(\"href\") for item in y[0].find_elements_by_css_selector(\".ypassport .user-display-name\")]"
     ]
    },
    {
     "cell_type": "markdown",
     "metadata": {},
     "source": [
      "browser.get('https://www.yelp.com/member_search?find_loc=AZ%3APhoenix%3A%3A&query=Laura+B&start=10')\n",
      "reviewerlist = browser.find_elements_by_xpath(\"//*[@id='super-container']/div[2]/div[2]/div[1]/div[2]/ol/li\")"
     ]
    },
    {
     "cell_type": "markdown",
     "metadata": {},
     "source": [
      "reviewerlist[4].find_element_by_class_name(\"result-text\").find_element_by_tag_name(\"a\").get_attribute(\"href\")"
     ]
    },
    {
     "cell_type": "markdown",
     "metadata": {},
     "source": [
      "#Testing dropdown selection\n",
      "biz_urls = [u'http://www.yelp.com/not_recommended_reviews/po-05-AGCVxEme-SbNUIKw']\n",
      "browser.get(biz_urls[0])\n",
      "browser.find_element_by_id(\"find-friends\").click()\n",
      "SearchBox = browser.find_element_by_xpath(\"//*[@id='query']\")\n",
      "SearchSubmit = browser.find_element_by_xpath(\"//*[@id='member-search-form']/p/button\")\n",
      "SearchBox.send_keys(ReviewNR[2][0])\n",
      "SearchSubmit.submit()\n",
      "#ReviewerList = browser.find_elements_by_xpath(\"//*[@id='super-container']/div[2]/div[2]/div[1]/div[2]/ol/li\")\n",
      "dropdown = browser.find_element_by_css_selector(\".member-search-container .location-filter\")#.find_element_by_partial_link_text(\"San Jose, CA\").click()\n",
      "value = dropdown.find_elements_by_partial_link_text(\"Scottsdale\")\n",
      "dropdown.click()\n",
      "while len(value) == 0:\n",
      "    dropdown.find_element_by_class_name(\"next\").click()\n",
      "    value = dropdown.find_elements_by_partial_link_text(\"Scottsdale\")\n",
      "    value = dropdown.find_elements_by_partial_link_text(\"Scottsdale\")\n",
      "    dropdown.find_element_by_class_name(\"next\").click()"
     ]
    },
    {
     "cell_type": "markdown",
     "metadata": {},
     "source": [
      "#Testing grabbing the right person from the user result page using url and friend and review count\n",
      "\n",
      "string1 = '0\\nfriends\\n1\\nreviews'\n",
      "string2 = '0\\nfriends\\n1\\nreviews'\n",
      "condition2 = ''\n",
      "frnd_count = ReviewTupList[8][6]\n",
      "revw_count = ReviewTupList[8][7]\n",
      "url_user = ReviewTupList[8][1]\n",
      "url = ''\n",
      "condition = ''\n",
      "condition1 = ''\n",
      "\n",
      "browser.get('https://www.yelp.com/member_search?find_loc=AZ%3APhoenix%3A%3A&query=Laura+B&start=10')\n",
      "reviewerlist = browser.find_elements_by_xpath(\"//*[@id='super-container']/div[2]/div[2]/div[1]/div[2]/ol/li\")\n",
      "\n",
      "for reviewer in reviewerlist:\n",
      "    string = reviewer.find_element_by_class_name(\"user-stats\").text #string = \"0\\nfriends\\n2\\nreviews\"\n",
      "    url = reviewer.find_element_by_class_name(\"result-text\").find_element_by_tag_name(\"a\").get_attribute(\"href\")\n",
      "    print 'url     :' + url\n",
      "    print 'url_user:' + url_user +'\\n'\n",
      "    condition1 = string.replace(\"\\n\", ' ')[:-1] in str(frnd_count + \" \" + revw_count)\n",
      "    condition2 = url[5:]==url_user[4:]\n",
      "    if url_user != '':\n",
      "        condition = condition2\n",
      "    else:\n",
      "        condition = condition1\n",
      "    if condition is True:\n",
      "        break"
     ]
    }
   ],
   "metadata": {}
  }
 ]
}