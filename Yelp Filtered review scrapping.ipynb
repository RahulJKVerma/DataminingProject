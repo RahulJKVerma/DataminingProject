{
 "metadata": {
  "name": ""
 },
 "nbformat": 3,
 "nbformat_minor": 0,
 "worksheets": [
  {
   "cells": [
    {
     "cell_type": "code",
     "collapsed": false,
     "input": [
      "from selenium import webdriver\n",
      "from selenium.webdriver.support.ui import Select\n",
      "import os\n",
      "import re\n",
      "import random\n",
      "import time\n",
      "import pandas as pd\n",
      "import numpy as np\n",
      "\n",
      "string1 = '3/10/2014\\nUpdated review'#'11/26/2013 Previous review'\n",
      "string3 = '11/26/2013 Previous review'\n",
      "string2 = 'Update - 10/12/2013'\n",
      "#pattern = re.compile(r'^(?!.*Previous review)(.+?)(.Updated review)?$',re.DOTALL)\n",
      "pattern = re.compile(r'^(?!.*Previous review)(Update - )?(.+?)(.Updated review)?$',re.DOTALL)"
     ],
     "language": "python",
     "metadata": {},
     "outputs": [],
     "prompt_number": 70
    },
    {
     "cell_type": "code",
     "collapsed": false,
     "input": [
      "re.search(pattern, string1).group(2)"
     ],
     "language": "python",
     "metadata": {},
     "outputs": [
      {
       "metadata": {},
       "output_type": "pyout",
       "prompt_number": 71,
       "text": [
        "'3/10/2014'"
       ]
      }
     ],
     "prompt_number": 71
    },
    {
     "cell_type": "code",
     "collapsed": false,
     "input": [
      "#biz_urls = []\n",
      "#rating = 0\n",
      "#name = 0\n",
      "#average_ratings = ''\n",
      "#text = []\n",
      "#date_entered = ''\n",
      "#user_text_dict = {}\n",
      "#reviews = ''\n",
      "#user_url = ''\n",
      "#UserTupleList = []\n",
      "#ReviewTupList = []\n",
      "#BusinessList = []\n",
      "#MainSearchPage = 'http://www.yelp.com/search?find_desc=&find_loc=Phoenix%2C+AZ&ns=1'"
     ],
     "language": "python",
     "metadata": {},
     "outputs": [],
     "prompt_number": 72
    },
    {
     "cell_type": "code",
     "collapsed": false,
     "input": [
      "path_to_chromedriver = \"C:\\\\Users\\\\Admin\\\\Supplemental_data\\\\yelp_phoenix_academic_dataset\\\\chromedriver_win32\\\\chromedriver.exe\" # change path as needed\n",
      "os.environ[\"webdriver.chrome.driver\"] = path_to_chromedriver\n",
      "browser = webdriver.Chrome(path_to_chromedriver)\n",
      "browser.get(\"http://www.yelp.com/search?find_desc=&find_loc=Phoenix%2C+AZ&ns=1\")\n",
      "#browser.find_element_by_class_name(\"log-in\").click()\n",
      "#LoginEmail = browser.find_element_by_xpath(\"//*[@id='login-form']/p[2]/input[2]\")\n",
      "#LoginPwd = browser.find_element_by_xpath(\"//*[@id='login-form']/p[3]/input\")\n",
      "#SubmitButton = browser.find_element_by_xpath(\"//*[@id='login-form']/p[5]/button\")\n",
      "#LoginEmail.send_keys(\"rahuljskajy@gmail.com\")\n",
      "#LoginPwd.send_keys(\"pojseianndijaksqucn\")\n",
      "#SubmitButton.submit()\n"
     ],
     "language": "python",
     "metadata": {},
     "outputs": [],
     "prompt_number": 73
    },
    {
     "cell_type": "code",
     "collapsed": false,
     "input": [
      "#url=\"http://www.yelp.com/search?find_desc=&find_loc=Phoenix%2C+AZ&ns=1&ls=183995831c4f3588\"\n",
      "#url = 'http://www.yelp.com/biz/a-1-minute-key-service-phoenix-2'\n",
      "#browser.get(url)"
     ],
     "language": "python",
     "metadata": {},
     "outputs": [],
     "prompt_number": 74
    },
    {
     "cell_type": "code",
     "collapsed": false,
     "input": [
      "\n",
      "\n",
      "#x = browser.find_elements_by_class_name(\"biz-name\")\n",
      "\n",
      "\n",
      "#for biz_name in x:\n",
      "#    biz_urls.append(biz_name.get_attribute(\"href\"))\n"
     ],
     "language": "python",
     "metadata": {},
     "outputs": [],
     "prompt_number": 75
    },
    {
     "cell_type": "code",
     "collapsed": false,
     "input": [
      "#biz_urls = [u'http://www.yelp.com/not_recommended_reviews/po-05-AGCVxEme-SbNUIKw']\n",
      "#biz_urls = ['http://www.yelp.com/biz/a-1-minute-key-service-phoenix-2']\n",
      "#browser.get(biz_urls[0])\n",
      "#ReviewTupList = []\n"
     ],
     "language": "python",
     "metadata": {},
     "outputs": [],
     "prompt_number": 76
    },
    {
     "cell_type": "code",
     "collapsed": false,
     "input": [
      "def GetAllNRReviews(biz_url):   \n",
      "    \"\"\"This function gets finds the Not Recommended section, clicks on it, gets the link for all NR pages\n",
      "    then call function GetTupPageNRReviews to get review details from individual pages\"\"\"\n",
      "    biz_rating = browser.find_element_by_css_selector(\".biz-page-header .rating-info .biz-rating .rating-very-large\").find_element_by_tag_name(\"i\").get_attribute(\"title\")\n",
      "    if browser.find_elements_by_css_selector(\".main-section .ysection:last-child\") != []:\n",
      "        browser.find_element_by_css_selector(\".main-section .ysection:last-child\").find_element_by_tag_name('a').click()\n",
      "        NRPageList = []\n",
      "        if browser.find_elements_by_css_selector(\".pagination-links .page-option\") != []:\n",
      "            NRPageList = [item.get_attribute(\"href\") for item in browser.find_elements_by_css_selector(\".pagination-links .page-option\")][1:-1]\n",
      "        ReviewTupList.extend(GetTupPageNRReviews(biz_url, biz_rating))\n",
      "        for nrpage in NRPageList:\n",
      "            browser.get(nrpage)\n",
      "            ReviewTupList.extend(GetTupPageNRReviews(biz_url, biz_rating))\n",
      "    else:\n",
      "        return\n",
      "    "
     ],
     "language": "python",
     "metadata": {},
     "outputs": [],
     "prompt_number": 110
    },
    {
     "cell_type": "code",
     "collapsed": false,
     "input": [
      "#a = browser.find_element_by_css_selector(\".main-section .ysection:last-child\").find_element_by_tag_name('a').get_attribute('href')"
     ],
     "language": "python",
     "metadata": {},
     "outputs": [],
     "prompt_number": 78
    },
    {
     "cell_type": "code",
     "collapsed": false,
     "input": [
      "#a = browser.find_elements_by_css_selector(\".subtle-text\")"
     ],
     "language": "python",
     "metadata": {},
     "outputs": [],
     "prompt_number": 79
    },
    {
     "cell_type": "code",
     "collapsed": false,
     "input": [
      "#a"
     ],
     "language": "python",
     "metadata": {},
     "outputs": [],
     "prompt_number": 80
    },
    {
     "cell_type": "code",
     "collapsed": false,
     "input": [
      "#len(ReviewTupList)"
     ],
     "language": "python",
     "metadata": {},
     "outputs": [],
     "prompt_number": 81
    },
    {
     "cell_type": "code",
     "collapsed": false,
     "input": [
      "def GetTupPageNRReviews(biz_url, bus_rating):\n",
      "    \"\"\" Getting a nice tuple list of all the information from the not recommended list. This function\n",
      "    will grab all the details from current page, then move to the next page till the last page and form\n",
      "    a list of tuples that will be fed into the function for finding individual user pages and data extraction\n",
      "    Return value should be a tuple list of user data from all pages. Input would be the current page/browser\"\"\"\n",
      "    x=browser.find_elements_by_xpath(\"//*[@id='super-container']/div[2]/div/div/div[3]/div/div[1]/ul\")\n",
      "    UserNameNR = map( lambda x: x.text, x[0].find_elements_by_css_selector(\".ypassport .user-display-name\"))\n",
      "    UserLocationNR = [item.text for item in x[0].find_elements_by_xpath(\"//li/b\")]\n",
      "    DateReviewedNR = map(lambda d: d.find_element_by_class_name(\"rating-qualifier\").text, x[0].find_elements_by_css_selector(\".biz-rating-very-large\"))#Need to remove the older reviewed date\n",
      "    UserRatingsNR = map( lambda x: x.find_element_by_tag_name(\"i\").get_attribute(\"title\"), x[0].find_elements_by_css_selector(\".biz-rating-very-large\"))\n",
      "    zipdateandratings = [(re.search(pattern, item[0]).group(2),item[1]) for item in zip(DateReviewedNR,UserRatingsNR) if re.search(pattern, item[0]) is not None]\n",
      "    DateReviewedNR, UserRatingsNR  = zip(*zipdateandratings)\n",
      "    ReviewsNR = [item.text for item in x[0].find_elements_by_css_selector(\".filtered-reviews-content .review p\")]\n",
      "    FriendsNR = [item.text for item in x[0].find_elements_by_css_selector(\".ypassport .friend-count\")]\n",
      "    ReviewCountNR = [item.text for item in x[0].find_elements_by_css_selector(\".ypassport .review-count\")]\n",
      "    Flag = ['NR']*len(UserNameNR)\n",
      "    bus_url = [biz_url]*len(UserNameNR)\n",
      "    user_url = ['']*len(UserNameNR)\n",
      "    bus_rating = [bus_rating]*len(UserNameNR)\n",
      "    ReviewNR = zip(UserNameNR , user_url, UserLocationNR, DateReviewedNR, UserRatingsNR, ReviewsNR, FriendsNR, ReviewCountNR, bus_url, Flag, bus_rating)\n",
      "    return ReviewNR"
     ],
     "language": "python",
     "metadata": {},
     "outputs": [],
     "prompt_number": 82
    },
    {
     "cell_type": "code",
     "collapsed": false,
     "input": [
      "#ReviewNR"
     ],
     "language": "python",
     "metadata": {},
     "outputs": [],
     "prompt_number": 83
    },
    {
     "cell_type": "markdown",
     "metadata": {},
     "source": [
      "ReviewNR[2]\n",
      "\n",
      "(u'Nick C.',</br>\n",
      " u'Scottsdale, AZ',</br>\n",
      " u'4/16/2014',</br>\n",
      " u'5.0 star rating',</br>\n",
      " u\"We used A1 a few weeks ago on the recommendation of our realtor after we purchased a new home.  We called the morning we closed and didn't expect to get an appt for a few days but they were able to get to us that same day.  Craig arrived and was very helpful in re-keying our door locks and getting us down to just 2 keys.  He also made extra keys for us on the spot.  Very reasonably priced and convenient.  Would definitely recommend A1 Minute Key Service to our friends and family.\",</br>\n",
      " u'0 friends',</br>\n",
      " u'3 reviews')"
     ]
    },
    {
     "cell_type": "code",
     "collapsed": false,
     "input": [
      "def YelpLogin():\n",
      "    browser.find_element_by_class_name(\"log-in\").click()\n",
      "    LoginEmail = browser.find_element_by_xpath(\"//*[@id='login-form']/p[2]/input[2]\")\n",
      "    LoginPwd = browser.find_element_by_xpath(\"//*[@id='login-form']/p[3]/input\")\n",
      "    SubmitButton = browser.find_element_by_xpath(\"//*[@id='login-form']/p[5]/button\")\n",
      "    LoginEmail.send_keys(\"rahuljskajy@gmail.com\")\n",
      "    LoginPwd.send_keys(\"pojseianndijaksqucn\")\n",
      "    SubmitButton.submit()\n",
      "    return"
     ],
     "language": "python",
     "metadata": {},
     "outputs": [],
     "prompt_number": 84
    },
    {
     "cell_type": "code",
     "collapsed": false,
     "input": [
      "#seconds = 5 + (random.random() * 5)\n",
      "#seconds"
     ],
     "language": "python",
     "metadata": {},
     "outputs": [],
     "prompt_number": 85
    },
    {
     "cell_type": "code",
     "collapsed": false,
     "input": [
      "def PassScrubbedRevRecords(ScrubbedRevTups):\n",
      "    for index, record in enumerate(ScrubbedRevTups):\n",
      "        UserRecord = LoopUserNames(record)\n",
      "        seconds = 10 + (random.random() * 5)\n",
      "        time.sleep(seconds)\n",
      "        print index\n",
      "        if UserRecord is not None:\n",
      "            UserTupleList.extend(UserRecord)"
     ],
     "language": "python",
     "metadata": {},
     "outputs": [],
     "prompt_number": 86
    },
    {
     "cell_type": "code",
     "collapsed": false,
     "input": [
      "def LoopUserNames(current_query):\n",
      "    \"\"\" This function searches for a name, which is the first element of \"current query\"\n",
      "    The function goes to the search page, identifies the location of the user, clicks on the location link from dropdown\n",
      "    and then calls function SelectUsername match the username from search results. Return value is a tuple of the form\n",
      "    username, user_url, reviewer_date, reviewer_ratings, review_text, business_reviewed, friend_count, review_count\n",
      "    and location\"\"\"\n",
      "    usertuplist = []\n",
      "    browser.find_element_by_id(\"find-friends\").click()\n",
      "    SearchBox = browser.find_element_by_xpath(\"//*[@id='query']\")\n",
      "    SearchSubmit = browser.find_element_by_xpath(\"//*[@id='member-search-form']/p/button\")\n",
      "    SearchBox.send_keys(current_query[0])\n",
      "    SearchSubmit.submit()\n",
      "    dropdown = browser.find_element_by_css_selector(\".member-search-container .location-filter\")#.find_element_by_partial_link_text(\"San Jose, CA\").click()\n",
      "    dropdown.click()\n",
      "    value = dropdown.find_elements_by_partial_link_text(current_query[2])\n",
      "    max_turns = 0\n",
      "    while (len(value) == 0) & (max_turns < 15):\n",
      "        dropdown.find_element_by_class_name(\"next\").click()\n",
      "        value = dropdown.find_elements_by_partial_link_text(current_query[2])\n",
      "        max_turns+=1\n",
      "    if len(value) != 0:\n",
      "        value[0].click()\n",
      "        #ReviewerList = browser.find_elements_by_xpath(\"//*[@id='super-container']/div[2]/div[2]/div[1]/div[2]/ol/li\")#Search page results in one place\n",
      "        search_results_pages = [results_page.get_attribute(\"href\") for results_page in browser.find_elements_by_class_name(\"pager-page\")][:-1]\n",
      "        search_results_pages.insert(0,None)\n",
      "        usertuplist = SelectUsername(search_results_pages, current_query[0], current_query[1] , current_query[6], current_query[7], current_query[2], current_query[9])\n",
      "        return usertuplist\n",
      "    else:\n",
      "        search_results_pages = [None]\n",
      "        usertuplist = SelectUsername(search_results_pages, current_query[0], current_query[1] , current_query[6], current_query[7], current_query[2], current_query[9])\n",
      "        return usertuplist\n"
     ],
     "language": "python",
     "metadata": {},
     "outputs": [],
     "prompt_number": 87
    },
    {
     "cell_type": "code",
     "collapsed": false,
     "input": [
      "def SelectUsername(page_list, usrname, url_user, frnd_count, revw_count, loc, flag):\n",
      "    \"\"\"This function matches the friend, location, name and review counts for a user to determine which userpage to \n",
      "    click. Once clicked, it calls function ScrapeUserPage which is a generic function to grab data from a user page\"\"\"\n",
      "    user_url = None\n",
      "    for page in page_list:\n",
      "        if page is not None:\n",
      "            browser.get(page)\n",
      "        reviewerlist = browser.find_elements_by_xpath(\"//*[@id='super-container']/div[2]/div[2]/div[1]/div[2]/ol/li\")\n",
      "        for reviewer in reviewerlist:\n",
      "            string = reviewer.find_element_by_class_name(\"user-stats\").text #string = \"0\\nfriends\\n2\\nreviews\"\n",
      "            url = reviewer.find_element_by_class_name(\"result-text\").find_element_by_tag_name(\"a\").get_attribute(\"href\")\n",
      "            user_name = reviewer.find_element_by_class_name(\"result-text\").find_element_by_tag_name(\"a\").text\n",
      "            condition1 = string.replace(\"\\n\", ' ')[:-1] in str(frnd_count + \" \" + revw_count)\n",
      "            condition2 = url[5:]==url_user[4:]\n",
      "            condition3 = user_name == usrname\n",
      "            if url_user != '':\n",
      "                condition = condition2\n",
      "            else:\n",
      "                condition = (condition1 and condition3)\n",
      "            if condition:\n",
      "                user_url = reviewer.find_element_by_class_name(\"result-text\").find_element_by_tag_name(\"a\").get_attribute(\"href\")\n",
      "                reviewer.find_element_by_class_name(\"result-text\").find_element_by_tag_name(\"a\").click()\n",
      "                break\n",
      "        if user_url != None:\n",
      "            break\n",
      "    if user_url is not None:\n",
      "        tuplist = LoopUserPageReviews(usrname, frnd_count, revw_count, loc, user_url, flag)\n",
      "        return tuplist\n",
      "    return\n",
      "\n",
      "def LoopUserPageReviews(usrname, frnd_count, revw_count, loc, user_url, flag):\n",
      "    usertuplist = []\n",
      "    MoreButton = browser.find_elements_by_link_text(\"More \u00bb\")\n",
      "    usertuplist.extend(ScrapeUserPage(usrname, frnd_count, revw_count, loc, user_url, flag))\n",
      "    while MoreButton != []:\n",
      "        MoreButton[0].click()\n",
      "        usertuplist.extend(ScrapeUserPage(usrname, frnd_count, revw_count, loc, user_url, flag))\n",
      "        time.sleep(3 + (random.random() * 3))\n",
      "        MoreButton = browser.find_elements_by_link_text(\"Next\")\n",
      "    return usertuplist\n",
      "\n",
      "    \n",
      "    \n",
      "def ScrapeUserPage(username, friend_count, review_count, location, usr_url, flag):\n",
      "    \"\"\"This function is a generic function used to grab data from a user page currently displayed in the browser\"\"\"\n",
      "    user_zip = [('','','','','','','','','','')]\n",
      "    #Call function for getting the user average ratings and reviews, pass user_url as input to function\n",
      "    if browser.find_elements_by_css_selector(\".review .review_comment\") != []:\n",
      "        reviewer_ratings = map( lambda x: x.find_element_by_tag_name(\"i\").get_attribute(\"title\"), browser.find_elements_by_css_selector(\".review .rating\"))\n",
      "        reviewer_date = [item.text for item in browser.find_elements_by_css_selector(\".review-meta .date\")]\n",
      "        #reviewer_text = [item.text for item in browser.find_elements_by_css_selector(\".review .review_comment\")]\n",
      "        reviewer_text = [item.find_elements_by_tag_name('div')[4].text for item in browser.find_elements_by_css_selector('.review')]\n",
      "        zipdateAndratings = [(re.search(pattern, item[0]).group(2),item[1]) for item in zip(reviewer_date,reviewer_ratings) if re.search(pattern, item[0]) is not None]\n",
      "        reviewer_date, reviewer_ratings  = zip(*zipdateAndratings)\n",
      "        biz_url = [item.find_element_by_tag_name(\"a\").get_attribute(\"href\") for item in browser.find_elements_by_css_selector(\".review .biz_info\")]\n",
      "        flag = [flag]*len(reviewer_text)\n",
      "        user_zip = zip([username]*len(reviewer_text), [usr_url]*len(reviewer_text), reviewer_date, reviewer_ratings, reviewer_text, biz_url, [friend_count]*len(reviewer_text), [review_count]*len(reviewer_text), [location]*len(reviewer_text), flag)\n",
      "    return user_zip"
     ],
     "language": "python",
     "metadata": {},
     "outputs": [],
     "prompt_number": 88
    },
    {
     "cell_type": "code",
     "collapsed": false,
     "input": [
      "#browser.get('https://www.yelp.com/member_search?find_loc=AZ%3APhoenix%3A%3A&query=Laura+B')\n"
     ],
     "language": "python",
     "metadata": {},
     "outputs": [],
     "prompt_number": 89
    },
    {
     "cell_type": "code",
     "collapsed": false,
     "input": [
      "#search_results_pages = [results_page.get_attribute(\"href\") for results_page in browser.find_elements_by_class_name(\"pager-page\")][:-1]"
     ],
     "language": "python",
     "metadata": {},
     "outputs": [],
     "prompt_number": 90
    },
    {
     "cell_type": "code",
     "collapsed": false,
     "input": [
      "#for page in search_results_pages:\n",
      "#    browser.get"
     ],
     "language": "python",
     "metadata": {},
     "outputs": [],
     "prompt_number": 91
    },
    {
     "cell_type": "code",
     "collapsed": false,
     "input": [
      "#UserTupleList[0]"
     ],
     "language": "python",
     "metadata": {},
     "outputs": [],
     "prompt_number": 92
    },
    {
     "cell_type": "code",
     "collapsed": false,
     "input": [
      "#UserTupleList"
     ],
     "language": "python",
     "metadata": {},
     "outputs": [],
     "prompt_number": 93
    },
    {
     "cell_type": "code",
     "collapsed": false,
     "input": [
      "#browser.quit()\n",
      "#for item in biz_urls:\n",
      "#    browser.get(item)\n",
      "#    FnPageScrapping(browser)\n",
      "#    browser.back()"
     ],
     "language": "python",
     "metadata": {},
     "outputs": [],
     "prompt_number": 94
    },
    {
     "cell_type": "code",
     "collapsed": false,
     "input": [
      "#def FnPageScrapping(chrome):\n",
      "#    y = chrome.find_elements_by_class_name(\"review-list\")\n",
      "#    for reviews in y:\n",
      "#        FnRecoReviewScrp(reviews)\n",
      "#    return\n",
      "    "
     ],
     "language": "python",
     "metadata": {},
     "outputs": [],
     "prompt_number": 95
    },
    {
     "cell_type": "code",
     "collapsed": false,
     "input": [
      "#def FnRecoReviewScrp(y):\n",
      "#    y_list = y.find_elements_by_tag_name(\"ul\")\n",
      "#    for distinct_reviews in y_list:\n",
      "#        reviews = distinct_reviews.find_elements_by_tag_name(\"li\")\n",
      "#        #Call basic extraction code for a review in reviews\n",
      "#        for index, individual_review in enumerate(reviews):\n",
      "#            print str(index) + \"-----\" + individual_review.text #Remove later\n",
      "#            usr_url, txt = ExtractDetails(individual_review)\n",
      "#            user_text_dict[usr_url] = txt\n",
      "#    return"
     ],
     "language": "python",
     "metadata": {},
     "outputs": [],
     "prompt_number": 96
    },
    {
     "cell_type": "code",
     "collapsed": false,
     "input": [
      "#def ExtractDetails(review):\n",
      "#    text = review.text\n",
      "#    username_container1 = review.find_elements_by_class_name(\"user-name\")\n",
      "#    #print \"username_container1: \" + str(username_container1)\n",
      "#    username_container2 = username_container1[0].find_elements_by_class_name(\"user-display-name\")\n",
      "#    user_url = username_container2[0].get_attribute(\"href\")\n",
      "#    return user_url, text\n",
      "#    text = text.append(item.text)"
     ],
     "language": "python",
     "metadata": {},
     "outputs": [],
     "prompt_number": 97
    },
    {
     "cell_type": "code",
     "collapsed": false,
     "input": [
      "#-Create a list of all the search results page links (can limit list length to 50)\n",
      "#--first get a list of links of all the businesses in a page\n",
      "#----first we get a list of urls of all the pages for a business\n",
      "#---------for every page we call the function to scrape the legitimate reviews\n",
      "#----we click on the filtered reviews link\n",
      "#----First we get a list of all the pages for the filtered reviews\n",
      "#---------for every page we call the function to get the fake reviews details\n",
      "#--go to the next business page\n",
      "#-Go to the next page"
     ],
     "language": "python",
     "metadata": {},
     "outputs": [],
     "prompt_number": 98
    },
    {
     "cell_type": "code",
     "collapsed": false,
     "input": [
      "#biz_urls = ['http://www.yelp.com/biz/a-1-minute-key-service-phoenix-2']\n"
     ],
     "language": "python",
     "metadata": {},
     "outputs": [],
     "prompt_number": 99
    },
    {
     "cell_type": "code",
     "collapsed": false,
     "input": [
      "def GetAllPagesRReviews(biz_url):\n",
      "    \"\"\"Pass the business URL and get all the Recommended reviews in a tuple form appended to\n",
      "    ReviewTupList\"\"\"\n",
      "    browser.get(biz_url)\n",
      "    RecoReviewsPages = []\n",
      "    biz_rating = browser.find_element_by_css_selector(\".biz-page-header .rating-info .biz-rating .rating-very-large\").find_element_by_tag_name(\"i\").get_attribute(\"title\")\n",
      "    if browser.find_elements_by_css_selector(\".pagination-links\") != []:\n",
      "        RecoReviewsPages = [item.get_attribute(\"href\") for item in browser.find_element_by_css_selector(\".pagination-links\").find_elements_by_tag_name(\"a\")]  \n",
      "    ReviewTupList.extend(GetTupPageRReviews(biz_url, biz_rating))\n",
      "    for url in RecoReviewsPages[0:-1]:\n",
      "        browser.get(url)\n",
      "        ReviewTupList.extend(GetTupPageRReviews(biz_url, biz_rating))"
     ],
     "language": "python",
     "metadata": {},
     "outputs": [],
     "prompt_number": 100
    },
    {
     "cell_type": "code",
     "collapsed": false,
     "input": [
      "def GetTupPageRReviews(business_url, bus_rating):\n",
      "    \"\"\" This function grabs all the recommended review details from a business page.\n",
      "    Inout is the current page, Output is the list of tuples of reviews. Called per page\"\"\"\n",
      "    y=browser.find_elements_by_class_name(\"review-list\")\n",
      "    UserNameR = map( lambda x: x.text, y[0].find_elements_by_css_selector(\".ypassport .user-display-name\"))\n",
      "    UserLocationR = [item.text for item in y[0].find_elements_by_xpath(\"//li/b\")]\n",
      "    dateReviewedR = map(lambda d: d.find_element_by_class_name(\"rating-qualifier\").text, y[0].find_elements_by_css_selector(\".biz-rating-very-large\"))#Need to remove the older reviewed date\n",
      "    userRatingsR = map( lambda x: x.find_element_by_tag_name(\"i\").get_attribute(\"title\"), y[0].find_elements_by_css_selector(\".biz-rating-very-large\"))\n",
      "    zipdateandratings = [(re.search(pattern, item[0]).group(2),item[1]) for item in zip(dateReviewedR,userRatingsR) if re.search(pattern, item[0]) is not None]\n",
      "    DateReviewedR, UserRatingsR  = zip(*zipdateandratings)\n",
      "    ReviewsR = [item.text for item in y[0].find_elements_by_css_selector(\".review .review_comment\")]\n",
      "    FriendsR = [item.text for item in y[0].find_elements_by_css_selector(\".ypassport .friend-count\")]\n",
      "    ReviewCountR = [item.text for item in y[0].find_elements_by_css_selector(\".ypassport .review-count\")]\n",
      "    user_url = [item.get_attribute(\"href\") for item in y[0].find_elements_by_css_selector(\".ypassport .user-display-name\")]\n",
      "    Flag = ['R']*len(UserNameR)\n",
      "    bus_url = [business_url]*len(UserNameR)\n",
      "    bus_rating = [bus_rating]*len(UserNameR)\n",
      "    ZipReviewsR = zip(UserNameR , user_url, UserLocationR, DateReviewedR, UserRatingsR, ReviewsR, FriendsR, ReviewCountR, bus_url, Flag, bus_rating )\n",
      "    return ZipReviewsR"
     ],
     "language": "python",
     "metadata": {},
     "outputs": [],
     "prompt_number": 101
    },
    {
     "cell_type": "code",
     "collapsed": false,
     "input": [
      "#browser.get('http://www.yelp.com/search?find_desc=&find_loc=Phoenix%2C+AZ&ns=1')\n"
     ],
     "language": "python",
     "metadata": {},
     "outputs": [],
     "prompt_number": 102
    },
    {
     "cell_type": "code",
     "collapsed": false,
     "input": [
      "#Test code\n",
      "#MainPaginationLinks = [item.get_attribute(\"href\") for item in browser.find_elements_by_css_selector(\".pagination-links .page-option\")][0:-1]\n",
      "#MainPaginationLinks[0:-1]"
     ],
     "language": "python",
     "metadata": {},
     "outputs": [],
     "prompt_number": 103
    },
    {
     "cell_type": "code",
     "collapsed": false,
     "input": [
      "def GetPageBusinessLinks():\n",
      "    \"\"\" Gets the business names(urls) in the current page\"\"\"\n",
      "    BusinessList = [item.get_attribute(\"href\") for item in browser.find_elements_by_css_selector(\".search-result .search-result-title a\")]\n",
      "    return BusinessList"
     ],
     "language": "python",
     "metadata": {},
     "outputs": [],
     "prompt_number": 104
    },
    {
     "cell_type": "code",
     "collapsed": false,
     "input": [
      "if __name__ == \"__main__\":\n",
      "    \n",
      "    #Environment variables\n",
      "    UserTupleList = []\n",
      "    ReviewTupList = []\n",
      "    BusinessList = []\n",
      "    MainSearchPage = 'http://www.yelp.com/search?find_desc=&find_loc=Phoenix%2C+AZ&ns=1#start=950&sortby=review_count'\n",
      "    path_to_chromedriver = \"C:\\\\Users\\\\Admin\\\\Supplemental_data\\\\yelp_phoenix_academic_dataset\\\\chromedriver_win32\\\\chromedriver.exe\" # change path as needed\n",
      "    if 'browser' in globals():\n",
      "        browser.quit()\n",
      "    os.environ[\"webdriver.chrome.driver\"] = path_to_chromedriver\n",
      "    browser = webdriver.Chrome(path_to_chromedriver)    \n",
      "    browser.get(MainSearchPage)\n",
      "    \n",
      "    #Main portion of code\n",
      "    MainPaginationLinks = [item.get_attribute(\"href\") for item in browser.find_elements_by_css_selector(\".pagination-links .page-option\")][0:-1]\n",
      "    for page_link in MainPaginationLinks[0:1]: #testing, have put Pagination link to first one\n",
      "        if page_link is not None:\n",
      "            browser.get(page_link)\n",
      "        BusinessList = GetPageBusinessLinks()\n",
      "        for business in BusinessList[0:5]:  #testing, have put business to first two\n",
      "            GetAllPagesRReviews(business)\n",
      "            GetAllNRReviews(business)\n",
      "    \n",
      "    #Loggin into yelp for searching users\n",
      "    YelpLogin()\n",
      "    PassScrubbedRevRecords(ReviewTupList)\n",
      "        \n",
      "            \n",
      "    "
     ],
     "language": "python",
     "metadata": {},
     "outputs": [
      {
       "output_type": "stream",
       "stream": "stdout",
       "text": [
        "0\n",
        "1"
       ]
      },
      {
       "output_type": "stream",
       "stream": "stdout",
       "text": [
        "\n",
        "2"
       ]
      },
      {
       "output_type": "stream",
       "stream": "stdout",
       "text": [
        "\n",
        "3"
       ]
      },
      {
       "ename": "NoSuchElementException",
       "evalue": "Message: u'no such element\\n  (Session info: chrome=34.0.1847.131)\\n  (Driver info: chromedriver=2.9.248315,platform=Windows NT 6.1 SP1 x86_64)' ",
       "output_type": "pyerr",
       "traceback": [
        "\u001b[1;31m---------------------------------------------------------------------------\u001b[0m\n\u001b[1;31mNoSuchElementException\u001b[0m                    Traceback (most recent call last)",
        "\u001b[1;32m<ipython-input-111-75585fceff60>\u001b[0m in \u001b[0;36m<module>\u001b[1;34m()\u001b[0m\n\u001b[0;32m     25\u001b[0m     \u001b[1;31m#Loggin into yelp for searching users\u001b[0m\u001b[1;33m\u001b[0m\u001b[1;33m\u001b[0m\u001b[0m\n\u001b[0;32m     26\u001b[0m     \u001b[0mYelpLogin\u001b[0m\u001b[1;33m(\u001b[0m\u001b[1;33m)\u001b[0m\u001b[1;33m\u001b[0m\u001b[0m\n\u001b[1;32m---> 27\u001b[1;33m     \u001b[0mPassScrubbedRevRecords\u001b[0m\u001b[1;33m(\u001b[0m\u001b[0mReviewTupList\u001b[0m\u001b[1;33m)\u001b[0m\u001b[1;33m\u001b[0m\u001b[0m\n\u001b[0m\u001b[0;32m     28\u001b[0m \u001b[1;33m\u001b[0m\u001b[0m\n\u001b[0;32m     29\u001b[0m \u001b[1;33m\u001b[0m\u001b[0m\n",
        "\u001b[1;32m<ipython-input-86-0352514c38db>\u001b[0m in \u001b[0;36mPassScrubbedRevRecords\u001b[1;34m(ScrubbedRevTups)\u001b[0m\n\u001b[0;32m      1\u001b[0m \u001b[1;32mdef\u001b[0m \u001b[0mPassScrubbedRevRecords\u001b[0m\u001b[1;33m(\u001b[0m\u001b[0mScrubbedRevTups\u001b[0m\u001b[1;33m)\u001b[0m\u001b[1;33m:\u001b[0m\u001b[1;33m\u001b[0m\u001b[0m\n\u001b[0;32m      2\u001b[0m     \u001b[1;32mfor\u001b[0m \u001b[0mindex\u001b[0m\u001b[1;33m,\u001b[0m \u001b[0mrecord\u001b[0m \u001b[1;32min\u001b[0m \u001b[0menumerate\u001b[0m\u001b[1;33m(\u001b[0m\u001b[0mScrubbedRevTups\u001b[0m\u001b[1;33m)\u001b[0m\u001b[1;33m:\u001b[0m\u001b[1;33m\u001b[0m\u001b[0m\n\u001b[1;32m----> 3\u001b[1;33m         \u001b[0mUserRecord\u001b[0m \u001b[1;33m=\u001b[0m \u001b[0mLoopUserNames\u001b[0m\u001b[1;33m(\u001b[0m\u001b[0mrecord\u001b[0m\u001b[1;33m)\u001b[0m\u001b[1;33m\u001b[0m\u001b[0m\n\u001b[0m\u001b[0;32m      4\u001b[0m         \u001b[0mseconds\u001b[0m \u001b[1;33m=\u001b[0m \u001b[1;36m10\u001b[0m \u001b[1;33m+\u001b[0m \u001b[1;33m(\u001b[0m\u001b[0mrandom\u001b[0m\u001b[1;33m.\u001b[0m\u001b[0mrandom\u001b[0m\u001b[1;33m(\u001b[0m\u001b[1;33m)\u001b[0m \u001b[1;33m*\u001b[0m \u001b[1;36m5\u001b[0m\u001b[1;33m)\u001b[0m\u001b[1;33m\u001b[0m\u001b[0m\n\u001b[0;32m      5\u001b[0m         \u001b[0mtime\u001b[0m\u001b[1;33m.\u001b[0m\u001b[0msleep\u001b[0m\u001b[1;33m(\u001b[0m\u001b[0mseconds\u001b[0m\u001b[1;33m)\u001b[0m\u001b[1;33m\u001b[0m\u001b[0m\n",
        "\u001b[1;32m<ipython-input-87-95a87acc91ee>\u001b[0m in \u001b[0;36mLoopUserNames\u001b[1;34m(current_query)\u001b[0m\n\u001b[0;32m      6\u001b[0m     and location\"\"\"\n\u001b[0;32m      7\u001b[0m     \u001b[0musertuplist\u001b[0m \u001b[1;33m=\u001b[0m \u001b[1;33m[\u001b[0m\u001b[1;33m]\u001b[0m\u001b[1;33m\u001b[0m\u001b[0m\n\u001b[1;32m----> 8\u001b[1;33m     \u001b[0mbrowser\u001b[0m\u001b[1;33m.\u001b[0m\u001b[0mfind_element_by_id\u001b[0m\u001b[1;33m(\u001b[0m\u001b[1;34m\"find-friends\"\u001b[0m\u001b[1;33m)\u001b[0m\u001b[1;33m.\u001b[0m\u001b[0mclick\u001b[0m\u001b[1;33m(\u001b[0m\u001b[1;33m)\u001b[0m\u001b[1;33m\u001b[0m\u001b[0m\n\u001b[0m\u001b[0;32m      9\u001b[0m     \u001b[0mSearchBox\u001b[0m \u001b[1;33m=\u001b[0m \u001b[0mbrowser\u001b[0m\u001b[1;33m.\u001b[0m\u001b[0mfind_element_by_xpath\u001b[0m\u001b[1;33m(\u001b[0m\u001b[1;34m\"//*[@id='query']\"\u001b[0m\u001b[1;33m)\u001b[0m\u001b[1;33m\u001b[0m\u001b[0m\n\u001b[0;32m     10\u001b[0m     \u001b[0mSearchSubmit\u001b[0m \u001b[1;33m=\u001b[0m \u001b[0mbrowser\u001b[0m\u001b[1;33m.\u001b[0m\u001b[0mfind_element_by_xpath\u001b[0m\u001b[1;33m(\u001b[0m\u001b[1;34m\"//*[@id='member-search-form']/p/button\"\u001b[0m\u001b[1;33m)\u001b[0m\u001b[1;33m\u001b[0m\u001b[0m\n",
        "\u001b[1;32mC:\\Users\\Admin\\Anaconda\\lib\\site-packages\\selenium\\webdriver\\remote\\webdriver.pyc\u001b[0m in \u001b[0;36mfind_element_by_id\u001b[1;34m(self, id_)\u001b[0m\n\u001b[0;32m    197\u001b[0m             \u001b[0mdriver\u001b[0m\u001b[1;33m.\u001b[0m\u001b[0mfind_element_by_id\u001b[0m\u001b[1;33m(\u001b[0m\u001b[1;34m'foo'\u001b[0m\u001b[1;33m)\u001b[0m\u001b[1;33m\u001b[0m\u001b[0m\n\u001b[0;32m    198\u001b[0m         \"\"\"\n\u001b[1;32m--> 199\u001b[1;33m         \u001b[1;32mreturn\u001b[0m \u001b[0mself\u001b[0m\u001b[1;33m.\u001b[0m\u001b[0mfind_element\u001b[0m\u001b[1;33m(\u001b[0m\u001b[0mby\u001b[0m\u001b[1;33m=\u001b[0m\u001b[0mBy\u001b[0m\u001b[1;33m.\u001b[0m\u001b[0mID\u001b[0m\u001b[1;33m,\u001b[0m \u001b[0mvalue\u001b[0m\u001b[1;33m=\u001b[0m\u001b[0mid_\u001b[0m\u001b[1;33m)\u001b[0m\u001b[1;33m\u001b[0m\u001b[0m\n\u001b[0m\u001b[0;32m    200\u001b[0m \u001b[1;33m\u001b[0m\u001b[0m\n\u001b[0;32m    201\u001b[0m     \u001b[1;32mdef\u001b[0m \u001b[0mfind_elements_by_id\u001b[0m\u001b[1;33m(\u001b[0m\u001b[0mself\u001b[0m\u001b[1;33m,\u001b[0m \u001b[0mid_\u001b[0m\u001b[1;33m)\u001b[0m\u001b[1;33m:\u001b[0m\u001b[1;33m\u001b[0m\u001b[0m\n",
        "\u001b[1;32mC:\\Users\\Admin\\Anaconda\\lib\\site-packages\\selenium\\webdriver\\remote\\webdriver.pyc\u001b[0m in \u001b[0;36mfind_element\u001b[1;34m(self, by, value)\u001b[0m\n\u001b[0;32m    653\u001b[0m \u001b[1;33m\u001b[0m\u001b[0m\n\u001b[0;32m    654\u001b[0m         return self.execute(Command.FIND_ELEMENT,\n\u001b[1;32m--> 655\u001b[1;33m                              {'using': by, 'value': value})['value']\n\u001b[0m\u001b[0;32m    656\u001b[0m \u001b[1;33m\u001b[0m\u001b[0m\n\u001b[0;32m    657\u001b[0m     \u001b[1;32mdef\u001b[0m \u001b[0mfind_elements\u001b[0m\u001b[1;33m(\u001b[0m\u001b[0mself\u001b[0m\u001b[1;33m,\u001b[0m \u001b[0mby\u001b[0m\u001b[1;33m=\u001b[0m\u001b[0mBy\u001b[0m\u001b[1;33m.\u001b[0m\u001b[0mID\u001b[0m\u001b[1;33m,\u001b[0m \u001b[0mvalue\u001b[0m\u001b[1;33m=\u001b[0m\u001b[0mNone\u001b[0m\u001b[1;33m)\u001b[0m\u001b[1;33m:\u001b[0m\u001b[1;33m\u001b[0m\u001b[0m\n",
        "\u001b[1;32mC:\\Users\\Admin\\Anaconda\\lib\\site-packages\\selenium\\webdriver\\remote\\webdriver.pyc\u001b[0m in \u001b[0;36mexecute\u001b[1;34m(self, driver_command, params)\u001b[0m\n\u001b[0;32m    164\u001b[0m         \u001b[0mresponse\u001b[0m \u001b[1;33m=\u001b[0m \u001b[0mself\u001b[0m\u001b[1;33m.\u001b[0m\u001b[0mcommand_executor\u001b[0m\u001b[1;33m.\u001b[0m\u001b[0mexecute\u001b[0m\u001b[1;33m(\u001b[0m\u001b[0mdriver_command\u001b[0m\u001b[1;33m,\u001b[0m \u001b[0mparams\u001b[0m\u001b[1;33m)\u001b[0m\u001b[1;33m\u001b[0m\u001b[0m\n\u001b[0;32m    165\u001b[0m         \u001b[1;32mif\u001b[0m \u001b[0mresponse\u001b[0m\u001b[1;33m:\u001b[0m\u001b[1;33m\u001b[0m\u001b[0m\n\u001b[1;32m--> 166\u001b[1;33m             \u001b[0mself\u001b[0m\u001b[1;33m.\u001b[0m\u001b[0merror_handler\u001b[0m\u001b[1;33m.\u001b[0m\u001b[0mcheck_response\u001b[0m\u001b[1;33m(\u001b[0m\u001b[0mresponse\u001b[0m\u001b[1;33m)\u001b[0m\u001b[1;33m\u001b[0m\u001b[0m\n\u001b[0m\u001b[0;32m    167\u001b[0m             response['value'] = self._unwrap_value(\n\u001b[0;32m    168\u001b[0m                 response.get('value', None))\n",
        "\u001b[1;32mC:\\Users\\Admin\\Anaconda\\lib\\site-packages\\selenium\\webdriver\\remote\\errorhandler.pyc\u001b[0m in \u001b[0;36mcheck_response\u001b[1;34m(self, response)\u001b[0m\n\u001b[0;32m    162\u001b[0m         \u001b[1;32mif\u001b[0m \u001b[0mexception_class\u001b[0m \u001b[1;33m==\u001b[0m \u001b[0mErrorInResponseException\u001b[0m\u001b[1;33m:\u001b[0m\u001b[1;33m\u001b[0m\u001b[0m\n\u001b[0;32m    163\u001b[0m             \u001b[1;32mraise\u001b[0m \u001b[0mexception_class\u001b[0m\u001b[1;33m(\u001b[0m\u001b[0mresponse\u001b[0m\u001b[1;33m,\u001b[0m \u001b[0mmessage\u001b[0m\u001b[1;33m)\u001b[0m\u001b[1;33m\u001b[0m\u001b[0m\n\u001b[1;32m--> 164\u001b[1;33m         \u001b[1;32mraise\u001b[0m \u001b[0mexception_class\u001b[0m\u001b[1;33m(\u001b[0m\u001b[0mmessage\u001b[0m\u001b[1;33m,\u001b[0m \u001b[0mscreen\u001b[0m\u001b[1;33m,\u001b[0m \u001b[0mstacktrace\u001b[0m\u001b[1;33m)\u001b[0m\u001b[1;33m\u001b[0m\u001b[0m\n\u001b[0m\u001b[0;32m    165\u001b[0m \u001b[1;33m\u001b[0m\u001b[0m\n\u001b[0;32m    166\u001b[0m     \u001b[1;32mdef\u001b[0m \u001b[0m_value_or_default\u001b[0m\u001b[1;33m(\u001b[0m\u001b[0mself\u001b[0m\u001b[1;33m,\u001b[0m \u001b[0mobj\u001b[0m\u001b[1;33m,\u001b[0m \u001b[0mkey\u001b[0m\u001b[1;33m,\u001b[0m \u001b[0mdefault\u001b[0m\u001b[1;33m)\u001b[0m\u001b[1;33m:\u001b[0m\u001b[1;33m\u001b[0m\u001b[0m\n",
        "\u001b[1;31mNoSuchElementException\u001b[0m: Message: u'no such element\\n  (Session info: chrome=34.0.1847.131)\\n  (Driver info: chromedriver=2.9.248315,platform=Windows NT 6.1 SP1 x86_64)' "
       ]
      },
      {
       "output_type": "stream",
       "stream": "stdout",
       "text": [
        "\n"
       ]
      }
     ],
     "prompt_number": 111
    },
    {
     "cell_type": "code",
     "collapsed": false,
     "input": [
      "browser.get('http://www.yelp.com/biz/leidan-mitchell-salon-and-spa-phoenix')"
     ],
     "language": "python",
     "metadata": {},
     "outputs": [],
     "prompt_number": 78
    },
    {
     "cell_type": "code",
     "collapsed": false,
     "input": [
      "for index, value in enumerate(ReviewTupList):\n",
      "    if value[0] == 'J W.':\n",
      "        print index"
     ],
     "language": "python",
     "metadata": {},
     "outputs": [
      {
       "output_type": "stream",
       "stream": "stdout",
       "text": [
        "616\n"
       ]
      }
     ],
     "prompt_number": 109
    },
    {
     "cell_type": "code",
     "collapsed": false,
     "input": [
      "PassScrubbedRevRecords(ReviewTupList[242+78:])#Done till 28+128+1 (Ernesto done)"
     ],
     "language": "python",
     "metadata": {},
     "outputs": [
      {
       "output_type": "stream",
       "stream": "stdout",
       "text": [
        "0\n",
        "1"
       ]
      },
      {
       "output_type": "stream",
       "stream": "stdout",
       "text": [
        "\n",
        "2"
       ]
      },
      {
       "output_type": "stream",
       "stream": "stdout",
       "text": [
        "\n",
        "3"
       ]
      },
      {
       "output_type": "stream",
       "stream": "stdout",
       "text": [
        "\n",
        "4"
       ]
      },
      {
       "output_type": "stream",
       "stream": "stdout",
       "text": [
        "\n",
        "5"
       ]
      },
      {
       "output_type": "stream",
       "stream": "stdout",
       "text": [
        "\n",
        "6"
       ]
      },
      {
       "output_type": "stream",
       "stream": "stdout",
       "text": [
        "\n",
        "7"
       ]
      },
      {
       "output_type": "stream",
       "stream": "stdout",
       "text": [
        "\n",
        "8"
       ]
      },
      {
       "output_type": "stream",
       "stream": "stdout",
       "text": [
        "\n",
        "9"
       ]
      },
      {
       "output_type": "stream",
       "stream": "stdout",
       "text": [
        "\n",
        "10"
       ]
      },
      {
       "output_type": "stream",
       "stream": "stdout",
       "text": [
        "\n",
        "11"
       ]
      },
      {
       "output_type": "stream",
       "stream": "stdout",
       "text": [
        "\n",
        "12"
       ]
      },
      {
       "output_type": "stream",
       "stream": "stdout",
       "text": [
        "\n",
        "13"
       ]
      },
      {
       "output_type": "stream",
       "stream": "stdout",
       "text": [
        "\n",
        "14"
       ]
      },
      {
       "output_type": "stream",
       "stream": "stdout",
       "text": [
        "\n",
        "15"
       ]
      },
      {
       "output_type": "stream",
       "stream": "stdout",
       "text": [
        "\n",
        "16"
       ]
      },
      {
       "output_type": "stream",
       "stream": "stdout",
       "text": [
        "\n",
        "17"
       ]
      },
      {
       "output_type": "stream",
       "stream": "stdout",
       "text": [
        "\n",
        "18"
       ]
      },
      {
       "output_type": "stream",
       "stream": "stdout",
       "text": [
        "\n",
        "19"
       ]
      },
      {
       "output_type": "stream",
       "stream": "stdout",
       "text": [
        "\n",
        "20"
       ]
      },
      {
       "output_type": "stream",
       "stream": "stdout",
       "text": [
        "\n",
        "21"
       ]
      },
      {
       "output_type": "stream",
       "stream": "stdout",
       "text": [
        "\n",
        "22"
       ]
      },
      {
       "output_type": "stream",
       "stream": "stdout",
       "text": [
        "\n",
        "23"
       ]
      },
      {
       "output_type": "stream",
       "stream": "stdout",
       "text": [
        "\n",
        "24"
       ]
      },
      {
       "output_type": "stream",
       "stream": "stdout",
       "text": [
        "\n",
        "25"
       ]
      },
      {
       "output_type": "stream",
       "stream": "stdout",
       "text": [
        "\n",
        "26"
       ]
      },
      {
       "output_type": "stream",
       "stream": "stdout",
       "text": [
        "\n",
        "27"
       ]
      },
      {
       "output_type": "stream",
       "stream": "stdout",
       "text": [
        "\n",
        "28"
       ]
      },
      {
       "output_type": "stream",
       "stream": "stdout",
       "text": [
        "\n",
        "29"
       ]
      },
      {
       "output_type": "stream",
       "stream": "stdout",
       "text": [
        "\n",
        "30"
       ]
      },
      {
       "output_type": "stream",
       "stream": "stdout",
       "text": [
        "\n",
        "31"
       ]
      },
      {
       "output_type": "stream",
       "stream": "stdout",
       "text": [
        "\n",
        "32"
       ]
      },
      {
       "output_type": "stream",
       "stream": "stdout",
       "text": [
        "\n",
        "33"
       ]
      },
      {
       "output_type": "stream",
       "stream": "stdout",
       "text": [
        "\n",
        "34"
       ]
      },
      {
       "output_type": "stream",
       "stream": "stdout",
       "text": [
        "\n",
        "35"
       ]
      },
      {
       "output_type": "stream",
       "stream": "stdout",
       "text": [
        "\n",
        "36"
       ]
      },
      {
       "output_type": "stream",
       "stream": "stdout",
       "text": [
        "\n",
        "37"
       ]
      },
      {
       "output_type": "stream",
       "stream": "stdout",
       "text": [
        "\n",
        "38"
       ]
      },
      {
       "output_type": "stream",
       "stream": "stdout",
       "text": [
        "\n",
        "39"
       ]
      },
      {
       "output_type": "stream",
       "stream": "stdout",
       "text": [
        "\n",
        "40"
       ]
      },
      {
       "output_type": "stream",
       "stream": "stdout",
       "text": [
        "\n",
        "41"
       ]
      },
      {
       "output_type": "stream",
       "stream": "stdout",
       "text": [
        "\n",
        "42"
       ]
      },
      {
       "output_type": "stream",
       "stream": "stdout",
       "text": [
        "\n",
        "43"
       ]
      },
      {
       "output_type": "stream",
       "stream": "stdout",
       "text": [
        "\n",
        "44"
       ]
      },
      {
       "output_type": "stream",
       "stream": "stdout",
       "text": [
        "\n",
        "45"
       ]
      },
      {
       "output_type": "stream",
       "stream": "stdout",
       "text": [
        "\n",
        "46"
       ]
      },
      {
       "output_type": "stream",
       "stream": "stdout",
       "text": [
        "\n",
        "47"
       ]
      },
      {
       "output_type": "stream",
       "stream": "stdout",
       "text": [
        "\n",
        "48"
       ]
      },
      {
       "output_type": "stream",
       "stream": "stdout",
       "text": [
        "\n",
        "49"
       ]
      },
      {
       "output_type": "stream",
       "stream": "stdout",
       "text": [
        "\n",
        "50"
       ]
      },
      {
       "output_type": "stream",
       "stream": "stdout",
       "text": [
        "\n",
        "51"
       ]
      },
      {
       "output_type": "stream",
       "stream": "stdout",
       "text": [
        "\n",
        "52"
       ]
      },
      {
       "output_type": "stream",
       "stream": "stdout",
       "text": [
        "\n",
        "53"
       ]
      },
      {
       "output_type": "stream",
       "stream": "stdout",
       "text": [
        "\n",
        "54"
       ]
      },
      {
       "output_type": "stream",
       "stream": "stdout",
       "text": [
        "\n",
        "55"
       ]
      },
      {
       "output_type": "stream",
       "stream": "stdout",
       "text": [
        "\n",
        "56"
       ]
      },
      {
       "output_type": "stream",
       "stream": "stdout",
       "text": [
        "\n",
        "57"
       ]
      },
      {
       "output_type": "stream",
       "stream": "stdout",
       "text": [
        "\n",
        "58"
       ]
      },
      {
       "output_type": "stream",
       "stream": "stdout",
       "text": [
        "\n",
        "59"
       ]
      },
      {
       "output_type": "stream",
       "stream": "stdout",
       "text": [
        "\n",
        "60"
       ]
      },
      {
       "output_type": "stream",
       "stream": "stdout",
       "text": [
        "\n",
        "61"
       ]
      },
      {
       "output_type": "stream",
       "stream": "stdout",
       "text": [
        "\n",
        "62"
       ]
      },
      {
       "output_type": "stream",
       "stream": "stdout",
       "text": [
        "\n",
        "63"
       ]
      },
      {
       "output_type": "stream",
       "stream": "stdout",
       "text": [
        "\n",
        "64"
       ]
      },
      {
       "output_type": "stream",
       "stream": "stdout",
       "text": [
        "\n",
        "65"
       ]
      },
      {
       "output_type": "stream",
       "stream": "stdout",
       "text": [
        "\n",
        "66"
       ]
      },
      {
       "output_type": "stream",
       "stream": "stdout",
       "text": [
        "\n",
        "67"
       ]
      },
      {
       "output_type": "stream",
       "stream": "stdout",
       "text": [
        "\n",
        "68"
       ]
      },
      {
       "output_type": "stream",
       "stream": "stdout",
       "text": [
        "\n",
        "69"
       ]
      },
      {
       "output_type": "stream",
       "stream": "stdout",
       "text": [
        "\n",
        "70"
       ]
      },
      {
       "output_type": "stream",
       "stream": "stdout",
       "text": [
        "\n",
        "71"
       ]
      },
      {
       "output_type": "stream",
       "stream": "stdout",
       "text": [
        "\n",
        "72"
       ]
      },
      {
       "output_type": "stream",
       "stream": "stdout",
       "text": [
        "\n",
        "73"
       ]
      },
      {
       "output_type": "stream",
       "stream": "stdout",
       "text": [
        "\n",
        "74"
       ]
      },
      {
       "output_type": "stream",
       "stream": "stdout",
       "text": [
        "\n",
        "75"
       ]
      },
      {
       "output_type": "stream",
       "stream": "stdout",
       "text": [
        "\n",
        "76"
       ]
      },
      {
       "output_type": "stream",
       "stream": "stdout",
       "text": [
        "\n",
        "77"
       ]
      },
      {
       "ename": "NoSuchElementException",
       "evalue": "Message: u'no such element\\n  (Session info: chrome=34.0.1847.131)\\n  (Driver info: chromedriver=2.9.248315,platform=Windows NT 6.1 SP1 x86_64)' ",
       "output_type": "pyerr",
       "traceback": [
        "\u001b[1;31m---------------------------------------------------------------------------\u001b[0m\n\u001b[1;31mNoSuchElementException\u001b[0m                    Traceback (most recent call last)",
        "\u001b[1;32m<ipython-input-122-e8cba8da25b7>\u001b[0m in \u001b[0;36m<module>\u001b[1;34m()\u001b[0m\n\u001b[1;32m----> 1\u001b[1;33m \u001b[0mPassScrubbedRevRecords\u001b[0m\u001b[1;33m(\u001b[0m\u001b[0mReviewTupList\u001b[0m\u001b[1;33m[\u001b[0m\u001b[1;36m242\u001b[0m\u001b[1;33m:\u001b[0m\u001b[1;33m]\u001b[0m\u001b[1;33m)\u001b[0m\u001b[1;31m#Done till 28+128+1 (Ernesto done)\u001b[0m\u001b[1;33m\u001b[0m\u001b[0m\n\u001b[0m",
        "\u001b[1;32m<ipython-input-86-0352514c38db>\u001b[0m in \u001b[0;36mPassScrubbedRevRecords\u001b[1;34m(ScrubbedRevTups)\u001b[0m\n\u001b[0;32m      1\u001b[0m \u001b[1;32mdef\u001b[0m \u001b[0mPassScrubbedRevRecords\u001b[0m\u001b[1;33m(\u001b[0m\u001b[0mScrubbedRevTups\u001b[0m\u001b[1;33m)\u001b[0m\u001b[1;33m:\u001b[0m\u001b[1;33m\u001b[0m\u001b[0m\n\u001b[0;32m      2\u001b[0m     \u001b[1;32mfor\u001b[0m \u001b[0mindex\u001b[0m\u001b[1;33m,\u001b[0m \u001b[0mrecord\u001b[0m \u001b[1;32min\u001b[0m \u001b[0menumerate\u001b[0m\u001b[1;33m(\u001b[0m\u001b[0mScrubbedRevTups\u001b[0m\u001b[1;33m)\u001b[0m\u001b[1;33m:\u001b[0m\u001b[1;33m\u001b[0m\u001b[0m\n\u001b[1;32m----> 3\u001b[1;33m         \u001b[0mUserRecord\u001b[0m \u001b[1;33m=\u001b[0m \u001b[0mLoopUserNames\u001b[0m\u001b[1;33m(\u001b[0m\u001b[0mrecord\u001b[0m\u001b[1;33m)\u001b[0m\u001b[1;33m\u001b[0m\u001b[0m\n\u001b[0m\u001b[0;32m      4\u001b[0m         \u001b[0mseconds\u001b[0m \u001b[1;33m=\u001b[0m \u001b[1;36m10\u001b[0m \u001b[1;33m+\u001b[0m \u001b[1;33m(\u001b[0m\u001b[0mrandom\u001b[0m\u001b[1;33m.\u001b[0m\u001b[0mrandom\u001b[0m\u001b[1;33m(\u001b[0m\u001b[1;33m)\u001b[0m \u001b[1;33m*\u001b[0m \u001b[1;36m5\u001b[0m\u001b[1;33m)\u001b[0m\u001b[1;33m\u001b[0m\u001b[0m\n\u001b[0;32m      5\u001b[0m         \u001b[0mtime\u001b[0m\u001b[1;33m.\u001b[0m\u001b[0msleep\u001b[0m\u001b[1;33m(\u001b[0m\u001b[0mseconds\u001b[0m\u001b[1;33m)\u001b[0m\u001b[1;33m\u001b[0m\u001b[0m\n",
        "\u001b[1;32m<ipython-input-87-95a87acc91ee>\u001b[0m in \u001b[0;36mLoopUserNames\u001b[1;34m(current_query)\u001b[0m\n\u001b[0;32m     11\u001b[0m     \u001b[0mSearchBox\u001b[0m\u001b[1;33m.\u001b[0m\u001b[0msend_keys\u001b[0m\u001b[1;33m(\u001b[0m\u001b[0mcurrent_query\u001b[0m\u001b[1;33m[\u001b[0m\u001b[1;36m0\u001b[0m\u001b[1;33m]\u001b[0m\u001b[1;33m)\u001b[0m\u001b[1;33m\u001b[0m\u001b[0m\n\u001b[0;32m     12\u001b[0m     \u001b[0mSearchSubmit\u001b[0m\u001b[1;33m.\u001b[0m\u001b[0msubmit\u001b[0m\u001b[1;33m(\u001b[0m\u001b[1;33m)\u001b[0m\u001b[1;33m\u001b[0m\u001b[0m\n\u001b[1;32m---> 13\u001b[1;33m     \u001b[0mdropdown\u001b[0m \u001b[1;33m=\u001b[0m \u001b[0mbrowser\u001b[0m\u001b[1;33m.\u001b[0m\u001b[0mfind_element_by_css_selector\u001b[0m\u001b[1;33m(\u001b[0m\u001b[1;34m\".member-search-container .location-filter\"\u001b[0m\u001b[1;33m)\u001b[0m\u001b[1;31m#.find_element_by_partial_link_text(\"San Jose, CA\").click()\u001b[0m\u001b[1;33m\u001b[0m\u001b[0m\n\u001b[0m\u001b[0;32m     14\u001b[0m     \u001b[0mdropdown\u001b[0m\u001b[1;33m.\u001b[0m\u001b[0mclick\u001b[0m\u001b[1;33m(\u001b[0m\u001b[1;33m)\u001b[0m\u001b[1;33m\u001b[0m\u001b[0m\n\u001b[0;32m     15\u001b[0m     \u001b[0mvalue\u001b[0m \u001b[1;33m=\u001b[0m \u001b[0mdropdown\u001b[0m\u001b[1;33m.\u001b[0m\u001b[0mfind_elements_by_partial_link_text\u001b[0m\u001b[1;33m(\u001b[0m\u001b[0mcurrent_query\u001b[0m\u001b[1;33m[\u001b[0m\u001b[1;36m2\u001b[0m\u001b[1;33m]\u001b[0m\u001b[1;33m)\u001b[0m\u001b[1;33m\u001b[0m\u001b[0m\n",
        "\u001b[1;32mC:\\Users\\Admin\\Anaconda\\lib\\site-packages\\selenium\\webdriver\\remote\\webdriver.pyc\u001b[0m in \u001b[0;36mfind_element_by_css_selector\u001b[1;34m(self, css_selector)\u001b[0m\n\u001b[0;32m    365\u001b[0m             \u001b[0mdriver\u001b[0m\u001b[1;33m.\u001b[0m\u001b[0mfind_element_by_css_selector\u001b[0m\u001b[1;33m(\u001b[0m\u001b[1;34m'#foo'\u001b[0m\u001b[1;33m)\u001b[0m\u001b[1;33m\u001b[0m\u001b[0m\n\u001b[0;32m    366\u001b[0m         \"\"\"\n\u001b[1;32m--> 367\u001b[1;33m         \u001b[1;32mreturn\u001b[0m \u001b[0mself\u001b[0m\u001b[1;33m.\u001b[0m\u001b[0mfind_element\u001b[0m\u001b[1;33m(\u001b[0m\u001b[0mby\u001b[0m\u001b[1;33m=\u001b[0m\u001b[0mBy\u001b[0m\u001b[1;33m.\u001b[0m\u001b[0mCSS_SELECTOR\u001b[0m\u001b[1;33m,\u001b[0m \u001b[0mvalue\u001b[0m\u001b[1;33m=\u001b[0m\u001b[0mcss_selector\u001b[0m\u001b[1;33m)\u001b[0m\u001b[1;33m\u001b[0m\u001b[0m\n\u001b[0m\u001b[0;32m    368\u001b[0m \u001b[1;33m\u001b[0m\u001b[0m\n\u001b[0;32m    369\u001b[0m     \u001b[1;32mdef\u001b[0m \u001b[0mfind_elements_by_css_selector\u001b[0m\u001b[1;33m(\u001b[0m\u001b[0mself\u001b[0m\u001b[1;33m,\u001b[0m \u001b[0mcss_selector\u001b[0m\u001b[1;33m)\u001b[0m\u001b[1;33m:\u001b[0m\u001b[1;33m\u001b[0m\u001b[0m\n",
        "\u001b[1;32mC:\\Users\\Admin\\Anaconda\\lib\\site-packages\\selenium\\webdriver\\remote\\webdriver.pyc\u001b[0m in \u001b[0;36mfind_element\u001b[1;34m(self, by, value)\u001b[0m\n\u001b[0;32m    653\u001b[0m \u001b[1;33m\u001b[0m\u001b[0m\n\u001b[0;32m    654\u001b[0m         return self.execute(Command.FIND_ELEMENT,\n\u001b[1;32m--> 655\u001b[1;33m                              {'using': by, 'value': value})['value']\n\u001b[0m\u001b[0;32m    656\u001b[0m \u001b[1;33m\u001b[0m\u001b[0m\n\u001b[0;32m    657\u001b[0m     \u001b[1;32mdef\u001b[0m \u001b[0mfind_elements\u001b[0m\u001b[1;33m(\u001b[0m\u001b[0mself\u001b[0m\u001b[1;33m,\u001b[0m \u001b[0mby\u001b[0m\u001b[1;33m=\u001b[0m\u001b[0mBy\u001b[0m\u001b[1;33m.\u001b[0m\u001b[0mID\u001b[0m\u001b[1;33m,\u001b[0m \u001b[0mvalue\u001b[0m\u001b[1;33m=\u001b[0m\u001b[0mNone\u001b[0m\u001b[1;33m)\u001b[0m\u001b[1;33m:\u001b[0m\u001b[1;33m\u001b[0m\u001b[0m\n",
        "\u001b[1;32mC:\\Users\\Admin\\Anaconda\\lib\\site-packages\\selenium\\webdriver\\remote\\webdriver.pyc\u001b[0m in \u001b[0;36mexecute\u001b[1;34m(self, driver_command, params)\u001b[0m\n\u001b[0;32m    164\u001b[0m         \u001b[0mresponse\u001b[0m \u001b[1;33m=\u001b[0m \u001b[0mself\u001b[0m\u001b[1;33m.\u001b[0m\u001b[0mcommand_executor\u001b[0m\u001b[1;33m.\u001b[0m\u001b[0mexecute\u001b[0m\u001b[1;33m(\u001b[0m\u001b[0mdriver_command\u001b[0m\u001b[1;33m,\u001b[0m \u001b[0mparams\u001b[0m\u001b[1;33m)\u001b[0m\u001b[1;33m\u001b[0m\u001b[0m\n\u001b[0;32m    165\u001b[0m         \u001b[1;32mif\u001b[0m \u001b[0mresponse\u001b[0m\u001b[1;33m:\u001b[0m\u001b[1;33m\u001b[0m\u001b[0m\n\u001b[1;32m--> 166\u001b[1;33m             \u001b[0mself\u001b[0m\u001b[1;33m.\u001b[0m\u001b[0merror_handler\u001b[0m\u001b[1;33m.\u001b[0m\u001b[0mcheck_response\u001b[0m\u001b[1;33m(\u001b[0m\u001b[0mresponse\u001b[0m\u001b[1;33m)\u001b[0m\u001b[1;33m\u001b[0m\u001b[0m\n\u001b[0m\u001b[0;32m    167\u001b[0m             response['value'] = self._unwrap_value(\n\u001b[0;32m    168\u001b[0m                 response.get('value', None))\n",
        "\u001b[1;32mC:\\Users\\Admin\\Anaconda\\lib\\site-packages\\selenium\\webdriver\\remote\\errorhandler.pyc\u001b[0m in \u001b[0;36mcheck_response\u001b[1;34m(self, response)\u001b[0m\n\u001b[0;32m    162\u001b[0m         \u001b[1;32mif\u001b[0m \u001b[0mexception_class\u001b[0m \u001b[1;33m==\u001b[0m \u001b[0mErrorInResponseException\u001b[0m\u001b[1;33m:\u001b[0m\u001b[1;33m\u001b[0m\u001b[0m\n\u001b[0;32m    163\u001b[0m             \u001b[1;32mraise\u001b[0m \u001b[0mexception_class\u001b[0m\u001b[1;33m(\u001b[0m\u001b[0mresponse\u001b[0m\u001b[1;33m,\u001b[0m \u001b[0mmessage\u001b[0m\u001b[1;33m)\u001b[0m\u001b[1;33m\u001b[0m\u001b[0m\n\u001b[1;32m--> 164\u001b[1;33m         \u001b[1;32mraise\u001b[0m \u001b[0mexception_class\u001b[0m\u001b[1;33m(\u001b[0m\u001b[0mmessage\u001b[0m\u001b[1;33m,\u001b[0m \u001b[0mscreen\u001b[0m\u001b[1;33m,\u001b[0m \u001b[0mstacktrace\u001b[0m\u001b[1;33m)\u001b[0m\u001b[1;33m\u001b[0m\u001b[0m\n\u001b[0m\u001b[0;32m    165\u001b[0m \u001b[1;33m\u001b[0m\u001b[0m\n\u001b[0;32m    166\u001b[0m     \u001b[1;32mdef\u001b[0m \u001b[0m_value_or_default\u001b[0m\u001b[1;33m(\u001b[0m\u001b[0mself\u001b[0m\u001b[1;33m,\u001b[0m \u001b[0mobj\u001b[0m\u001b[1;33m,\u001b[0m \u001b[0mkey\u001b[0m\u001b[1;33m,\u001b[0m \u001b[0mdefault\u001b[0m\u001b[1;33m)\u001b[0m\u001b[1;33m:\u001b[0m\u001b[1;33m\u001b[0m\u001b[0m\n",
        "\u001b[1;31mNoSuchElementException\u001b[0m: Message: u'no such element\\n  (Session info: chrome=34.0.1847.131)\\n  (Driver info: chromedriver=2.9.248315,platform=Windows NT 6.1 SP1 x86_64)' "
       ]
      },
      {
       "output_type": "stream",
       "stream": "stdout",
       "text": [
        "\n"
       ]
      }
     ],
     "prompt_number": 122
    },
    {
     "cell_type": "code",
     "collapsed": false,
     "input": [
      "ReviewTupList[242]"
     ],
     "language": "python",
     "metadata": {},
     "outputs": [
      {
       "metadata": {},
       "output_type": "pyout",
       "prompt_number": 120,
       "text": [
        "(u'Jack M.',\n",
        " '',\n",
        " u'Scottsdale, AZ',\n",
        " u'7/26/2011',\n",
        " u'5.0 star rating',\n",
        " u'If you DONT KNOW, NOW YOU KNOW SCOTTSDALE!  Stone and Vine, the new Italian HOTTNESS on 94st and Shea is EPIC!  Everything from the amazing decor, music, great service and classic but one of a kind Italain dishes will make you scream \"MAMMA MIA.\"\\n    This spot has everything from pizza, bruchetta\\'s, classic Italain dishes, and panni\\'s.  Although, the food is crazy good, I guess the martini\\'s are even better.  At least thats the vibe I got from the 10 pack of ladies sitting at the bar.  Lucky for me I got a seat at the end of the bar to enjoy the view and my Stone IPA.\\n     Overall, I had such a good time at Stone and Vine.  The bar and the bartenders were great.  \\n\\nP.S. Thanks Ginger',\n",
        " u'0 friends',\n",
        " u'1 review',\n",
        " u'http://www.yelp.com/biz/stone-and-vine-urban-italian-scottsdale',\n",
        " 'NR',\n",
        " u'3.5 star rating')"
       ]
      }
     ],
     "prompt_number": 120
    },
    {
     "cell_type": "code",
     "collapsed": false,
     "input": [
      "UserTupleList =[]"
     ],
     "language": "python",
     "metadata": {},
     "outputs": [],
     "prompt_number": 131
    },
    {
     "cell_type": "code",
     "collapsed": false,
     "input": [
      "y[0].find_elements_by_css_selector(\".ypassport .user-display-name\")"
     ],
     "language": "python",
     "metadata": {},
     "outputs": [],
     "prompt_number": 39
    },
    {
     "cell_type": "code",
     "collapsed": false,
     "input": [
      "browser.back()"
     ],
     "language": "python",
     "metadata": {},
     "outputs": [],
     "prompt_number": 40
    },
    {
     "cell_type": "code",
     "collapsed": false,
     "input": [
      "y=browser.find_elements_by_class_name(\"review-list\")"
     ],
     "language": "python",
     "metadata": {},
     "outputs": [],
     "prompt_number": 44
    },
    {
     "cell_type": "code",
     "collapsed": false,
     "input": [
      "#map( lambda x: x.text, y[0].find_elements_by_css_selector(\".ypassport .user-display-name\"))"
     ],
     "language": "python",
     "metadata": {},
     "outputs": [],
     "prompt_number": 15
    },
    {
     "cell_type": "code",
     "collapsed": false,
     "input": [
      "UserTupleList = []\n",
      "#YelpLogin()\n",
      "PassScrubbedRevRecords(ReviewTupList[47:48])"
     ],
     "language": "python",
     "metadata": {},
     "outputs": [],
     "prompt_number": 72
    },
    {
     "cell_type": "code",
     "collapsed": false,
     "input": [
      "browser.get(\"http://www.yelp.com/user_details?userid=omB7jbGOXmUiDtkwYCvzoA\")"
     ],
     "language": "python",
     "metadata": {},
     "outputs": [],
     "prompt_number": 58
    },
    {
     "cell_type": "code",
     "collapsed": false,
     "input": [
      "len(UserTupleList)"
     ],
     "language": "python",
     "metadata": {},
     "outputs": [
      {
       "metadata": {},
       "output_type": "pyout",
       "prompt_number": 154,
       "text": [
        "6593"
       ]
      }
     ],
     "prompt_number": 154
    },
    {
     "cell_type": "code",
     "collapsed": false,
     "input": [
      "ReviewTupList[47:48]"
     ],
     "language": "python",
     "metadata": {},
     "outputs": [
      {
       "metadata": {},
       "output_type": "pyout",
       "prompt_number": 71,
       "text": [
        "(u'Maggie H.',\n",
        " u'http://www.yelp.com/user_details?userid=E6mMNnlg8btB-Lz7b5BovQ',\n",
        " u'Phoenix, AZ',\n",
        " u'11/21/2008',\n",
        " u'5.0 star rating',\n",
        " u'Thank you fellow Yelpers for not failing me.\\n\\nI just moved into a house and wanted to get all the locks changed. I called a locksmith that my realtor suggested and that guy couldn\\'t even make an appointment. As he put it \"Wednesday is too early to make an appointment for Friday. Call me Friday and I\\'ll let you know if I can come out.\"\\nEff that! So I jump on Yelp search for locksmith and find the great reviews for Jeff.\\n\\nMy husband called Jeff on Thursday and he gladly made an appointment for 8am on Friday.\\n\\nJeff showed up on time and gave me my options and he got straight to work.\\n\\nHe is a friendly guy and only charged $105 to change out four locks.\\n\\nI found his professionalism, friendliness and prices to be awesome! If I ever need a locksmith again I would call Jeff.',\n",
        " u'57 friends',\n",
        " u'112 reviews',\n",
        " u'http://www.yelp.com/biz/a-1-minute-key-service-phoenix-2',\n",
        " 'R')"
       ]
      }
     ],
     "prompt_number": 71
    },
    {
     "cell_type": "code",
     "collapsed": false,
     "input": [
      "dfYelpReviews = pd.DataFrame(ReviewTupList)\n",
      "dfYelpReviews.columns = np.array(['name','userurl','userlocation','reviewdate','reviewrating','reviewtext','friendcount','reviewcount','businessurl','flag', 'businessrating'])\n",
      "dfYelpReviewsJSON = dfYelpReviews.to_json(orient=\"records\")\n",
      "f = open(\"C:\\\\Users\\\\Admin\\\\Supplemental_data\\\\dfYelpReviewsJSONlatest.json\",'w')\n",
      "print >> f, dfYelpReviewsJSON\n",
      "f.close()"
     ],
     "language": "python",
     "metadata": {},
     "outputs": [],
     "prompt_number": 116
    },
    {
     "cell_type": "code",
     "collapsed": false,
     "input": [
      "dfYelpUsers = pd.DataFrame(UserTupleList)\n",
      "dfYelpUsers = dfYelpUsers[dfYelpUsers[1] != '']\n",
      "dfYelpUsers.columns = np.array(['name','userurl','reviewdate','reviewrating','reviewtext','businessurl','friendcount','reviewcount','userlocation','flag'])\n",
      "dfYelpUsersJSON = dfYelpUsers.to_json(orient=\"records\")\n",
      "f = open(\"C:\\\\Users\\\\Admin\\\\Supplemental_data\\\\dfYelpUsersJSONlatest2.json\",'w')\n",
      "print >> f, dfYelpUsersJSON\n",
      "f.close()"
     ],
     "language": "python",
     "metadata": {},
     "outputs": [],
     "prompt_number": 123
    },
    {
     "cell_type": "code",
     "collapsed": false,
     "input": [
      "#dfYelpUsers"
     ],
     "language": "python",
     "metadata": {},
     "outputs": [],
     "prompt_number": 4
    },
    {
     "cell_type": "code",
     "collapsed": false,
     "input": [
      "browser.get('http://www.yelp.com/user_details?userid=v-ycLH_ziGCe8n6czSSl4g')"
     ],
     "language": "python",
     "metadata": {},
     "outputs": [],
     "prompt_number": 16
    },
    {
     "cell_type": "code",
     "collapsed": false,
     "input": [
      "reviewer_ratings = map( lambda x: x.find_element_by_tag_name(\"i\").get_attribute(\"title\"), browser.find_elements_by_css_selector(\".review .rating\"))\n",
      "reviewer_date = [item.text for item in browser.find_elements_by_css_selector(\".review-meta .date\")]\n",
      "#reviewer_text = [item.find_elements_by_tag_name for item in browser.find_elements_by_css_selector(\".review .review_comment\")]\n",
      "reviewer_text = [item.find_elements_by_tag_name('div')[4].text for item in browser.find_elements_by_css_selector('.review')]\n",
      "zipdateAndratings = [(re.search(pattern, item[0]).group(2),item[1]) for item in zip(reviewer_date,reviewer_ratings) if re.search(pattern, item[0]) is not None]\n",
      "reviewer_date, reviewer_ratings  = zip(*zipdateAndratings)\n",
      "biz_url = [item.find_element_by_tag_name(\"a\").get_attribute(\"href\") for item in browser.find_elements_by_css_selector(\".review .biz_info\")]\n",
      "flag = ['flag']*len(reviewer_text)\n",
      "user_zip = zip(['username']*len(reviewer_text), ['usr_url']*len(reviewer_text), reviewer_date, reviewer_ratings, reviewer_text, biz_url, ['friend_count']*len(reviewer_text), ['review_count']*len(reviewer_text), ['location']*len(reviewer_text), flag)"
     ],
     "language": "python",
     "metadata": {},
     "outputs": [],
     "prompt_number": 69
    },
    {
     "cell_type": "code",
     "collapsed": false,
     "input": [
      "len(reviewer_text)"
     ],
     "language": "python",
     "metadata": {},
     "outputs": [
      {
       "metadata": {},
       "output_type": "pyout",
       "prompt_number": 55,
       "text": [
        "10"
       ]
      }
     ],
     "prompt_number": 55
    },
    {
     "cell_type": "code",
     "collapsed": false,
     "input": [
      "reviewer_text"
     ],
     "language": "python",
     "metadata": {},
     "outputs": [
      {
       "metadata": {},
       "output_type": "pyout",
       "prompt_number": 54,
       "text": [
        "[u\"Fairly quiet, great floor plans, closets to love, but location is everything! Can't be any closer to the light rail! Restaurants and places for a night cap are within walking distance in basically any direction. The new management has put a ton of great things into this place, fixing the gates and trimming the trees alone has made a huge impact. The old management had hired some very harassing security folk, who we had several run ins with, no issues at all anymore! I Dog friendly, awesome grill by the pool, all in unit or garage washer & dryer (a luxury in its own) you will get what you pay for. Few improvements I would suggest, more than one recycling bin, pet waste facilities along the exterior, and maybe another BBQ or two. Can't wait to see what the in unit renovations have in store, this place has great bones but with the proper touch will be perfect! Side note, it's the city.. Parking is at a premium in this prime location\",\n",
        " u\"This trip wasn't as bad. Minus the heard of children ripping tags off things, collecting them, and throwing them on the floor. Again, while parents pay no regard to what their gremlins are doing\",\n",
        " u\"I love supporting local coffee shops. There's a Starbucks across the street but I can get that anywhere. During the week there's no line, and you can get your coffee quite quickly. However when there's a line, the staff does not take ownership of their line and taking care of customers. There's usually one girl running around the back when other staff is walking past. The coffee is good, and the doughnuts are tasty, but I could have been in and out of Starbucks in half the time...\",\n",
        " u\"Quick friendly staff, even after a few short days from my visits they had my drink down! grab a seat and stay a while - you're in paradise! (and of course the patio!)\",\n",
        " u'What\\'s not to love about a locally owned restaurant with a great menu!? They feature new lunch and dinner specials and a great happy hour!\\nThe list of beers may be overwhelming, try the \"Beer of the Month\". only $3! Or go for my absolute favorite, their Red Sangria. All other Sangrias can\\'t come close!',\n",
        " u'MUST start with garlic knots! All the pastas are amazing! Penne al pollo is definitely a must try.',\n",
        " u'Ive been coming to this location for quite some time now. I can walk in and get my haircut in a reasonable amount of time. This time was different. I had almost an hour wait, which I managed to wait through, only to find out it didn\\'t end there. Sonya gave me a prompt time of when a stylist would be available. Much to my surprise someone else got say with that stylist at the exact time she quoted me. I waited a little while longer and eventually left. I then called in to ask why my time that she quoted me was given to someone else, was then instructed that they had been on a delay, and a stylist would be available in 15 minutes. This all could have been avoided if she, instead of offering me a beverage, told me that they were on a delay that would push me back another 30 minutes. I told her that she had been in the wrong and that I would no longer be supporting their establishment... To which she said, \"ok I\\'m sorry\". A little respect for your clients goes a long way, as they are your livelihood.',\n",
        " u'When a friend and I were talking, one thing we both agreed on @ LGO; WINGS. Bleu cheese and ranch are both AMAZING. Pizza is incredible as well! Made a great date night the other day. Keep your shorts on for parking tho!',\n",
        " u'Sunday afternoons at one require more than one cashier. Lined up customers for dine in, and a growing line for pick up and take out. A tad dysfunctional. Wound up @ Tokyo express...',\n",
        " u\"Tried this place on opening day because of the freebies on behalf of my father. We have always gone to Luke's (yes, the 16th Street location too) and needless to say, I was disappointed. Had I not been to Luke's before, I'm sure my experience would have been better. Too commercialized, mid range tasting food. I won't be back on my own that's for sure.\"]"
       ]
      }
     ],
     "prompt_number": 54
    },
    {
     "cell_type": "code",
     "collapsed": false,
     "input": [
      "print len(UserNameNR)\n",
      "print len(UserLocationNR)\n",
      "print len(DateReviewedNR)\n",
      "print len(UserRatingsNR)\n",
      "print len(ReviewsNR)\n",
      "print len(FriendsNR)\n",
      "print len(ReviewCountNR)\n",
      "print len(Flag)\n",
      "print len(bus_url)\n",
      "print len(user_url)"
     ],
     "language": "python",
     "metadata": {},
     "outputs": [
      {
       "output_type": "stream",
       "stream": "stdout",
       "text": [
        "6\n",
        "6\n",
        "6\n",
        "6\n",
        "6\n",
        "6\n",
        "6\n",
        "6\n",
        "6\n",
        "6\n"
       ]
      }
     ],
     "prompt_number": 14
    },
    {
     "cell_type": "markdown",
     "metadata": {},
     "source": [
      "y=browser.find_elements_by_xpath(\"//*[@id='super-container']/div[2]/div[2]/div[1]/div[2]/ol/li\")"
     ]
    },
    {
     "cell_type": "markdown",
     "metadata": {},
     "source": [
      "y[0].find_element_by_class_name(\"result-text\").find_element_by_tag_name(\"a\").text"
     ]
    },
    {
     "cell_type": "markdown",
     "metadata": {},
     "source": [
      "user_url = [item.get_attribute(\"href\") for item in y[0].find_elements_by_css_selector(\".ypassport .user-display-name\")]"
     ]
    },
    {
     "cell_type": "markdown",
     "metadata": {},
     "source": [
      "browser.get('https://www.yelp.com/member_search?find_loc=AZ%3APhoenix%3A%3A&query=Laura+B&start=10')\n",
      "reviewerlist = browser.find_elements_by_xpath(\"//*[@id='super-container']/div[2]/div[2]/div[1]/div[2]/ol/li\")"
     ]
    },
    {
     "cell_type": "markdown",
     "metadata": {},
     "source": [
      "reviewerlist[4].find_element_by_class_name(\"result-text\").find_element_by_tag_name(\"a\").get_attribute(\"href\")"
     ]
    },
    {
     "cell_type": "markdown",
     "metadata": {},
     "source": [
      "#Testing dropdown selection\n",
      "biz_urls = [u'http://www.yelp.com/not_recommended_reviews/po-05-AGCVxEme-SbNUIKw']\n",
      "browser.get(biz_urls[0])\n",
      "browser.find_element_by_id(\"find-friends\").click()\n",
      "SearchBox = browser.find_element_by_xpath(\"//*[@id='query']\")\n",
      "SearchSubmit = browser.find_element_by_xpath(\"//*[@id='member-search-form']/p/button\")\n",
      "SearchBox.send_keys(ReviewNR[2][0])\n",
      "SearchSubmit.submit()\n",
      "#ReviewerList = browser.find_elements_by_xpath(\"//*[@id='super-container']/div[2]/div[2]/div[1]/div[2]/ol/li\")\n",
      "dropdown = browser.find_element_by_css_selector(\".member-search-container .location-filter\")#.find_element_by_partial_link_text(\"San Jose, CA\").click()\n",
      "value = dropdown.find_elements_by_partial_link_text(\"Scottsdale\")\n",
      "dropdown.click()\n",
      "while len(value) == 0:\n",
      "    dropdown.find_element_by_class_name(\"next\").click()\n",
      "    value = dropdown.find_elements_by_partial_link_text(\"Scottsdale\")\n",
      "    value = dropdown.find_elements_by_partial_link_text(\"Scottsdale\")\n",
      "    dropdown.find_element_by_class_name(\"next\").click()"
     ]
    },
    {
     "cell_type": "markdown",
     "metadata": {},
     "source": [
      "#Testing grabbing the right person from the user result page using url and friend and review count\n",
      "\n",
      "string1 = '0\\nfriends\\n1\\nreviews'\n",
      "string2 = '0\\nfriends\\n1\\nreviews'\n",
      "condition2 = ''\n",
      "frnd_count = ReviewTupList[8][6]\n",
      "revw_count = ReviewTupList[8][7]\n",
      "url_user = ReviewTupList[8][1]\n",
      "url = ''\n",
      "condition = ''\n",
      "condition1 = ''\n",
      "\n",
      "browser.get('https://www.yelp.com/member_search?find_loc=AZ%3APhoenix%3A%3A&query=Laura+B&start=10')\n",
      "reviewerlist = browser.find_elements_by_xpath(\"//*[@id='super-container']/div[2]/div[2]/div[1]/div[2]/ol/li\")\n",
      "\n",
      "for reviewer in reviewerlist:\n",
      "    string = reviewer.find_element_by_class_name(\"user-stats\").text #string = \"0\\nfriends\\n2\\nreviews\"\n",
      "    url = reviewer.find_element_by_class_name(\"result-text\").find_element_by_tag_name(\"a\").get_attribute(\"href\")\n",
      "    print 'url     :' + url\n",
      "    print 'url_user:' + url_user +'\\n'\n",
      "    condition1 = string.replace(\"\\n\", ' ')[:-1] in str(frnd_count + \" \" + revw_count)\n",
      "    condition2 = url[5:]==url_user[4:]\n",
      "    if url_user != '':\n",
      "        condition = condition2\n",
      "    else:\n",
      "        condition = condition1\n",
      "    if condition is True:\n",
      "        break"
     ]
    }
   ],
   "metadata": {}
  }
 ]
}